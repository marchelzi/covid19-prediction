{
  "cells": [
    {
      "cell_type": "code",
      "execution_count": 1,
      "metadata": {
        "id": "xHnzw5NZaMvx"
      },
      "outputs": [],
      "source": [
        "import pandas as pd\n",
        "from sklearn.model_selection import train_test_split\n",
        "from sklearn.linear_model import LogisticRegression\n",
        "from sklearn.tree import DecisionTreeClassifier\n",
        "from sklearn.ensemble import RandomForestClassifier, GradientBoostingClassifier\n",
        "import numpy as np\n",
        "from matplotlib import pyplot as plt\n",
        "from matplotlib.ticker import FormatStrFormatter\n",
        "from sklearn.neural_network import MLPClassifier\n",
        "from sklearn.metrics import f1_score\n",
        "from sklearn.experimental import enable_halving_search_cv\n",
        "from sklearn.model_selection import HalvingGridSearchCV\n",
        "from sklearn.metrics import classification_report\n",
        "from xgboost import XGBClassifier"
      ]
    },
    {
      "cell_type": "code",
      "execution_count": 2,
      "metadata": {
        "colab": {
          "base_uri": "https://localhost:8080/"
        },
        "id": "VhrHB6jKafKc",
        "outputId": "a59a0f68-828e-438c-e1ba-4614c35bce71"
      },
      "outputs": [],
      "source": [
        "df = pd.read_csv('./CovidData.csv')"
      ]
    },
    {
      "cell_type": "code",
      "execution_count": 3,
      "metadata": {
        "colab": {
          "base_uri": "https://localhost:8080/",
          "height": 236
        },
        "id": "d1rYwCIZaMv5",
        "outputId": "0dbb9b65-ed20-4bde-cc77-25e28975593a"
      },
      "outputs": [
        {
          "data": {
            "text/html": [
              "<div>\n",
              "<style scoped>\n",
              "    .dataframe tbody tr th:only-of-type {\n",
              "        vertical-align: middle;\n",
              "    }\n",
              "\n",
              "    .dataframe tbody tr th {\n",
              "        vertical-align: top;\n",
              "    }\n",
              "\n",
              "    .dataframe thead th {\n",
              "        text-align: right;\n",
              "    }\n",
              "</style>\n",
              "<table border=\"1\" class=\"dataframe\">\n",
              "  <thead>\n",
              "    <tr style=\"text-align: right;\">\n",
              "      <th></th>\n",
              "      <th>USMER</th>\n",
              "      <th>MEDICAL_UNIT</th>\n",
              "      <th>SEX</th>\n",
              "      <th>PATIENT_TYPE</th>\n",
              "      <th>DATE_DIED</th>\n",
              "      <th>INTUBED</th>\n",
              "      <th>PNEUMONIA</th>\n",
              "      <th>AGE</th>\n",
              "      <th>PREGNANT</th>\n",
              "      <th>DIABETES</th>\n",
              "      <th>...</th>\n",
              "      <th>ASTHMA</th>\n",
              "      <th>INMSUPR</th>\n",
              "      <th>HIPERTENSION</th>\n",
              "      <th>OTHER_DISEASE</th>\n",
              "      <th>CARDIOVASCULAR</th>\n",
              "      <th>OBESITY</th>\n",
              "      <th>RENAL_CHRONIC</th>\n",
              "      <th>TOBACCO</th>\n",
              "      <th>CLASIFFICATION_FINAL</th>\n",
              "      <th>ICU</th>\n",
              "    </tr>\n",
              "  </thead>\n",
              "  <tbody>\n",
              "    <tr>\n",
              "      <th>0</th>\n",
              "      <td>2</td>\n",
              "      <td>1</td>\n",
              "      <td>1</td>\n",
              "      <td>1</td>\n",
              "      <td>03/05/2020</td>\n",
              "      <td>97</td>\n",
              "      <td>1</td>\n",
              "      <td>65</td>\n",
              "      <td>2</td>\n",
              "      <td>2</td>\n",
              "      <td>...</td>\n",
              "      <td>2</td>\n",
              "      <td>2</td>\n",
              "      <td>1</td>\n",
              "      <td>2</td>\n",
              "      <td>2</td>\n",
              "      <td>2</td>\n",
              "      <td>2</td>\n",
              "      <td>2</td>\n",
              "      <td>3</td>\n",
              "      <td>97</td>\n",
              "    </tr>\n",
              "    <tr>\n",
              "      <th>1</th>\n",
              "      <td>2</td>\n",
              "      <td>1</td>\n",
              "      <td>2</td>\n",
              "      <td>1</td>\n",
              "      <td>03/06/2020</td>\n",
              "      <td>97</td>\n",
              "      <td>1</td>\n",
              "      <td>72</td>\n",
              "      <td>97</td>\n",
              "      <td>2</td>\n",
              "      <td>...</td>\n",
              "      <td>2</td>\n",
              "      <td>2</td>\n",
              "      <td>1</td>\n",
              "      <td>2</td>\n",
              "      <td>2</td>\n",
              "      <td>1</td>\n",
              "      <td>1</td>\n",
              "      <td>2</td>\n",
              "      <td>5</td>\n",
              "      <td>97</td>\n",
              "    </tr>\n",
              "    <tr>\n",
              "      <th>2</th>\n",
              "      <td>2</td>\n",
              "      <td>1</td>\n",
              "      <td>2</td>\n",
              "      <td>2</td>\n",
              "      <td>09/06/2020</td>\n",
              "      <td>1</td>\n",
              "      <td>2</td>\n",
              "      <td>55</td>\n",
              "      <td>97</td>\n",
              "      <td>1</td>\n",
              "      <td>...</td>\n",
              "      <td>2</td>\n",
              "      <td>2</td>\n",
              "      <td>2</td>\n",
              "      <td>2</td>\n",
              "      <td>2</td>\n",
              "      <td>2</td>\n",
              "      <td>2</td>\n",
              "      <td>2</td>\n",
              "      <td>3</td>\n",
              "      <td>2</td>\n",
              "    </tr>\n",
              "    <tr>\n",
              "      <th>3</th>\n",
              "      <td>2</td>\n",
              "      <td>1</td>\n",
              "      <td>1</td>\n",
              "      <td>1</td>\n",
              "      <td>12/06/2020</td>\n",
              "      <td>97</td>\n",
              "      <td>2</td>\n",
              "      <td>53</td>\n",
              "      <td>2</td>\n",
              "      <td>2</td>\n",
              "      <td>...</td>\n",
              "      <td>2</td>\n",
              "      <td>2</td>\n",
              "      <td>2</td>\n",
              "      <td>2</td>\n",
              "      <td>2</td>\n",
              "      <td>2</td>\n",
              "      <td>2</td>\n",
              "      <td>2</td>\n",
              "      <td>7</td>\n",
              "      <td>97</td>\n",
              "    </tr>\n",
              "    <tr>\n",
              "      <th>4</th>\n",
              "      <td>2</td>\n",
              "      <td>1</td>\n",
              "      <td>2</td>\n",
              "      <td>1</td>\n",
              "      <td>21/06/2020</td>\n",
              "      <td>97</td>\n",
              "      <td>2</td>\n",
              "      <td>68</td>\n",
              "      <td>97</td>\n",
              "      <td>1</td>\n",
              "      <td>...</td>\n",
              "      <td>2</td>\n",
              "      <td>2</td>\n",
              "      <td>1</td>\n",
              "      <td>2</td>\n",
              "      <td>2</td>\n",
              "      <td>2</td>\n",
              "      <td>2</td>\n",
              "      <td>2</td>\n",
              "      <td>3</td>\n",
              "      <td>97</td>\n",
              "    </tr>\n",
              "  </tbody>\n",
              "</table>\n",
              "<p>5 rows × 21 columns</p>\n",
              "</div>"
            ],
            "text/plain": [
              "   USMER  MEDICAL_UNIT  SEX  PATIENT_TYPE   DATE_DIED  INTUBED  PNEUMONIA  \\\n",
              "0      2             1    1             1  03/05/2020       97          1   \n",
              "1      2             1    2             1  03/06/2020       97          1   \n",
              "2      2             1    2             2  09/06/2020        1          2   \n",
              "3      2             1    1             1  12/06/2020       97          2   \n",
              "4      2             1    2             1  21/06/2020       97          2   \n",
              "\n",
              "   AGE  PREGNANT  DIABETES  ...  ASTHMA  INMSUPR  HIPERTENSION  OTHER_DISEASE  \\\n",
              "0   65         2         2  ...       2        2             1              2   \n",
              "1   72        97         2  ...       2        2             1              2   \n",
              "2   55        97         1  ...       2        2             2              2   \n",
              "3   53         2         2  ...       2        2             2              2   \n",
              "4   68        97         1  ...       2        2             1              2   \n",
              "\n",
              "   CARDIOVASCULAR  OBESITY  RENAL_CHRONIC  TOBACCO  CLASIFFICATION_FINAL  ICU  \n",
              "0               2        2              2        2                     3   97  \n",
              "1               2        1              1        2                     5   97  \n",
              "2               2        2              2        2                     3    2  \n",
              "3               2        2              2        2                     7   97  \n",
              "4               2        2              2        2                     3   97  \n",
              "\n",
              "[5 rows x 21 columns]"
            ]
          },
          "execution_count": 3,
          "metadata": {},
          "output_type": "execute_result"
        }
      ],
      "source": [
        "df.head()"
      ]
    },
    {
      "cell_type": "markdown",
      "metadata": {
        "id": "D4sCBHiyb6Q9"
      },
      "source": [
        "Hapus Medical Unit karena tidak dibutuhkan"
      ]
    },
    {
      "cell_type": "code",
      "execution_count": 4,
      "metadata": {
        "colab": {
          "base_uri": "https://localhost:8080/"
        },
        "id": "2inorVK5aMv7",
        "outputId": "403cbb66-9159-460e-9eb3-fc90d834cec6"
      },
      "outputs": [
        {
          "name": "stdout",
          "output_type": "stream",
          "text": [
            "<class 'pandas.core.frame.DataFrame'>\n",
            "RangeIndex: 1048575 entries, 0 to 1048574\n",
            "Data columns (total 20 columns):\n",
            " #   Column                Non-Null Count    Dtype \n",
            "---  ------                --------------    ----- \n",
            " 0   USMER                 1048575 non-null  int64 \n",
            " 1   SEX                   1048575 non-null  int64 \n",
            " 2   PATIENT_TYPE          1048575 non-null  int64 \n",
            " 3   DATE_DIED             1048575 non-null  object\n",
            " 4   INTUBED               1048575 non-null  int64 \n",
            " 5   PNEUMONIA             1048575 non-null  int64 \n",
            " 6   AGE                   1048575 non-null  int64 \n",
            " 7   PREGNANT              1048575 non-null  int64 \n",
            " 8   DIABETES              1048575 non-null  int64 \n",
            " 9   COPD                  1048575 non-null  int64 \n",
            " 10  ASTHMA                1048575 non-null  int64 \n",
            " 11  INMSUPR               1048575 non-null  int64 \n",
            " 12  HIPERTENSION          1048575 non-null  int64 \n",
            " 13  OTHER_DISEASE         1048575 non-null  int64 \n",
            " 14  CARDIOVASCULAR        1048575 non-null  int64 \n",
            " 15  OBESITY               1048575 non-null  int64 \n",
            " 16  RENAL_CHRONIC         1048575 non-null  int64 \n",
            " 17  TOBACCO               1048575 non-null  int64 \n",
            " 18  CLASIFFICATION_FINAL  1048575 non-null  int64 \n",
            " 19  ICU                   1048575 non-null  int64 \n",
            "dtypes: int64(19), object(1)\n",
            "memory usage: 160.0+ MB\n"
          ]
        }
      ],
      "source": [
        "df.drop(columns=['MEDICAL_UNIT'], inplace=True)\n",
        "df.info()"
      ]
    },
    {
      "cell_type": "markdown",
      "metadata": {
        "id": "Q_G0QnNBcOEo"
      },
      "source": [
        "97 dan 98 adalah missing values, maka data harus di normalisasi atau dibersihkan dengan cara menghapus baris yang mengadung value 97 dan 98"
      ]
    },
    {
      "cell_type": "code",
      "execution_count": 5,
      "metadata": {
        "colab": {
          "base_uri": "https://localhost:8080/"
        },
        "id": "_ZpJpdG1aMv8",
        "outputId": "43afd340-dff3-48a9-c63c-3998f81b79e1"
      },
      "outputs": [
        {
          "name": "stdout",
          "output_type": "stream",
          "text": [
            "<class 'pandas.core.frame.DataFrame'>\n",
            "RangeIndex: 1048575 entries, 0 to 1048574\n",
            "Data columns (total 20 columns):\n",
            " #   Column                Non-Null Count    Dtype \n",
            "---  ------                --------------    ----- \n",
            " 0   USMER                 1048575 non-null  int64 \n",
            " 1   SEX                   1048575 non-null  int64 \n",
            " 2   PATIENT_TYPE          1048575 non-null  int64 \n",
            " 3   DATE_DIED             1048575 non-null  object\n",
            " 4   INTUBED               1048575 non-null  int64 \n",
            " 5   PNEUMONIA             1048575 non-null  int64 \n",
            " 6   AGE                   1048575 non-null  int64 \n",
            " 7   PREGNANT              1048575 non-null  int64 \n",
            " 8   DIABETES              1048575 non-null  int64 \n",
            " 9   COPD                  1048575 non-null  int64 \n",
            " 10  ASTHMA                1048575 non-null  int64 \n",
            " 11  INMSUPR               1048575 non-null  int64 \n",
            " 12  HIPERTENSION          1048575 non-null  int64 \n",
            " 13  OTHER_DISEASE         1048575 non-null  int64 \n",
            " 14  CARDIOVASCULAR        1048575 non-null  int64 \n",
            " 15  OBESITY               1048575 non-null  int64 \n",
            " 16  RENAL_CHRONIC         1048575 non-null  int64 \n",
            " 17  TOBACCO               1048575 non-null  int64 \n",
            " 18  CLASIFFICATION_FINAL  1048575 non-null  int64 \n",
            " 19  ICU                   1048575 non-null  int64 \n",
            "dtypes: int64(19), object(1)\n",
            "memory usage: 160.0+ MB\n"
          ]
        }
      ],
      "source": [
        "mask = df.isin([97, 98])\n",
        "df.info()\n"
      ]
    },
    {
      "cell_type": "code",
      "execution_count": 6,
      "metadata": {
        "colab": {
          "base_uri": "https://localhost:8080/",
          "height": 424
        },
        "id": "ZRRFrtmKD4IM",
        "outputId": "2c96de54-f04c-4b84-cc92-2fc7170f1c79"
      },
      "outputs": [
        {
          "data": {
            "text/html": [
              "<div>\n",
              "<style scoped>\n",
              "    .dataframe tbody tr th:only-of-type {\n",
              "        vertical-align: middle;\n",
              "    }\n",
              "\n",
              "    .dataframe tbody tr th {\n",
              "        vertical-align: top;\n",
              "    }\n",
              "\n",
              "    .dataframe thead th {\n",
              "        text-align: right;\n",
              "    }\n",
              "</style>\n",
              "<table border=\"1\" class=\"dataframe\">\n",
              "  <thead>\n",
              "    <tr style=\"text-align: right;\">\n",
              "      <th></th>\n",
              "      <th>USMER</th>\n",
              "      <th>SEX</th>\n",
              "      <th>PATIENT_TYPE</th>\n",
              "      <th>DATE_DIED</th>\n",
              "      <th>INTUBED</th>\n",
              "      <th>PNEUMONIA</th>\n",
              "      <th>AGE</th>\n",
              "      <th>PREGNANT</th>\n",
              "      <th>DIABETES</th>\n",
              "      <th>COPD</th>\n",
              "      <th>ASTHMA</th>\n",
              "      <th>INMSUPR</th>\n",
              "      <th>HIPERTENSION</th>\n",
              "      <th>OTHER_DISEASE</th>\n",
              "      <th>CARDIOVASCULAR</th>\n",
              "      <th>OBESITY</th>\n",
              "      <th>RENAL_CHRONIC</th>\n",
              "      <th>TOBACCO</th>\n",
              "      <th>CLASIFFICATION_FINAL</th>\n",
              "      <th>ICU</th>\n",
              "    </tr>\n",
              "  </thead>\n",
              "  <tbody>\n",
              "    <tr>\n",
              "      <th>0</th>\n",
              "      <td>False</td>\n",
              "      <td>False</td>\n",
              "      <td>False</td>\n",
              "      <td>False</td>\n",
              "      <td>True</td>\n",
              "      <td>False</td>\n",
              "      <td>False</td>\n",
              "      <td>False</td>\n",
              "      <td>False</td>\n",
              "      <td>False</td>\n",
              "      <td>False</td>\n",
              "      <td>False</td>\n",
              "      <td>False</td>\n",
              "      <td>False</td>\n",
              "      <td>False</td>\n",
              "      <td>False</td>\n",
              "      <td>False</td>\n",
              "      <td>False</td>\n",
              "      <td>False</td>\n",
              "      <td>True</td>\n",
              "    </tr>\n",
              "    <tr>\n",
              "      <th>1</th>\n",
              "      <td>False</td>\n",
              "      <td>False</td>\n",
              "      <td>False</td>\n",
              "      <td>False</td>\n",
              "      <td>True</td>\n",
              "      <td>False</td>\n",
              "      <td>False</td>\n",
              "      <td>True</td>\n",
              "      <td>False</td>\n",
              "      <td>False</td>\n",
              "      <td>False</td>\n",
              "      <td>False</td>\n",
              "      <td>False</td>\n",
              "      <td>False</td>\n",
              "      <td>False</td>\n",
              "      <td>False</td>\n",
              "      <td>False</td>\n",
              "      <td>False</td>\n",
              "      <td>False</td>\n",
              "      <td>True</td>\n",
              "    </tr>\n",
              "    <tr>\n",
              "      <th>2</th>\n",
              "      <td>False</td>\n",
              "      <td>False</td>\n",
              "      <td>False</td>\n",
              "      <td>False</td>\n",
              "      <td>False</td>\n",
              "      <td>False</td>\n",
              "      <td>False</td>\n",
              "      <td>True</td>\n",
              "      <td>False</td>\n",
              "      <td>False</td>\n",
              "      <td>False</td>\n",
              "      <td>False</td>\n",
              "      <td>False</td>\n",
              "      <td>False</td>\n",
              "      <td>False</td>\n",
              "      <td>False</td>\n",
              "      <td>False</td>\n",
              "      <td>False</td>\n",
              "      <td>False</td>\n",
              "      <td>False</td>\n",
              "    </tr>\n",
              "    <tr>\n",
              "      <th>3</th>\n",
              "      <td>False</td>\n",
              "      <td>False</td>\n",
              "      <td>False</td>\n",
              "      <td>False</td>\n",
              "      <td>True</td>\n",
              "      <td>False</td>\n",
              "      <td>False</td>\n",
              "      <td>False</td>\n",
              "      <td>False</td>\n",
              "      <td>False</td>\n",
              "      <td>False</td>\n",
              "      <td>False</td>\n",
              "      <td>False</td>\n",
              "      <td>False</td>\n",
              "      <td>False</td>\n",
              "      <td>False</td>\n",
              "      <td>False</td>\n",
              "      <td>False</td>\n",
              "      <td>False</td>\n",
              "      <td>True</td>\n",
              "    </tr>\n",
              "    <tr>\n",
              "      <th>4</th>\n",
              "      <td>False</td>\n",
              "      <td>False</td>\n",
              "      <td>False</td>\n",
              "      <td>False</td>\n",
              "      <td>True</td>\n",
              "      <td>False</td>\n",
              "      <td>False</td>\n",
              "      <td>True</td>\n",
              "      <td>False</td>\n",
              "      <td>False</td>\n",
              "      <td>False</td>\n",
              "      <td>False</td>\n",
              "      <td>False</td>\n",
              "      <td>False</td>\n",
              "      <td>False</td>\n",
              "      <td>False</td>\n",
              "      <td>False</td>\n",
              "      <td>False</td>\n",
              "      <td>False</td>\n",
              "      <td>True</td>\n",
              "    </tr>\n",
              "    <tr>\n",
              "      <th>...</th>\n",
              "      <td>...</td>\n",
              "      <td>...</td>\n",
              "      <td>...</td>\n",
              "      <td>...</td>\n",
              "      <td>...</td>\n",
              "      <td>...</td>\n",
              "      <td>...</td>\n",
              "      <td>...</td>\n",
              "      <td>...</td>\n",
              "      <td>...</td>\n",
              "      <td>...</td>\n",
              "      <td>...</td>\n",
              "      <td>...</td>\n",
              "      <td>...</td>\n",
              "      <td>...</td>\n",
              "      <td>...</td>\n",
              "      <td>...</td>\n",
              "      <td>...</td>\n",
              "      <td>...</td>\n",
              "      <td>...</td>\n",
              "    </tr>\n",
              "    <tr>\n",
              "      <th>1048570</th>\n",
              "      <td>False</td>\n",
              "      <td>False</td>\n",
              "      <td>False</td>\n",
              "      <td>False</td>\n",
              "      <td>True</td>\n",
              "      <td>False</td>\n",
              "      <td>False</td>\n",
              "      <td>True</td>\n",
              "      <td>False</td>\n",
              "      <td>False</td>\n",
              "      <td>False</td>\n",
              "      <td>False</td>\n",
              "      <td>False</td>\n",
              "      <td>False</td>\n",
              "      <td>False</td>\n",
              "      <td>False</td>\n",
              "      <td>False</td>\n",
              "      <td>False</td>\n",
              "      <td>False</td>\n",
              "      <td>True</td>\n",
              "    </tr>\n",
              "    <tr>\n",
              "      <th>1048571</th>\n",
              "      <td>False</td>\n",
              "      <td>False</td>\n",
              "      <td>False</td>\n",
              "      <td>False</td>\n",
              "      <td>False</td>\n",
              "      <td>False</td>\n",
              "      <td>False</td>\n",
              "      <td>True</td>\n",
              "      <td>False</td>\n",
              "      <td>False</td>\n",
              "      <td>False</td>\n",
              "      <td>False</td>\n",
              "      <td>False</td>\n",
              "      <td>False</td>\n",
              "      <td>False</td>\n",
              "      <td>False</td>\n",
              "      <td>False</td>\n",
              "      <td>False</td>\n",
              "      <td>False</td>\n",
              "      <td>False</td>\n",
              "    </tr>\n",
              "    <tr>\n",
              "      <th>1048572</th>\n",
              "      <td>False</td>\n",
              "      <td>False</td>\n",
              "      <td>False</td>\n",
              "      <td>False</td>\n",
              "      <td>True</td>\n",
              "      <td>False</td>\n",
              "      <td>False</td>\n",
              "      <td>True</td>\n",
              "      <td>False</td>\n",
              "      <td>False</td>\n",
              "      <td>False</td>\n",
              "      <td>False</td>\n",
              "      <td>False</td>\n",
              "      <td>False</td>\n",
              "      <td>False</td>\n",
              "      <td>False</td>\n",
              "      <td>False</td>\n",
              "      <td>False</td>\n",
              "      <td>False</td>\n",
              "      <td>True</td>\n",
              "    </tr>\n",
              "    <tr>\n",
              "      <th>1048573</th>\n",
              "      <td>False</td>\n",
              "      <td>False</td>\n",
              "      <td>False</td>\n",
              "      <td>False</td>\n",
              "      <td>True</td>\n",
              "      <td>False</td>\n",
              "      <td>False</td>\n",
              "      <td>True</td>\n",
              "      <td>False</td>\n",
              "      <td>False</td>\n",
              "      <td>False</td>\n",
              "      <td>False</td>\n",
              "      <td>False</td>\n",
              "      <td>False</td>\n",
              "      <td>False</td>\n",
              "      <td>False</td>\n",
              "      <td>False</td>\n",
              "      <td>False</td>\n",
              "      <td>False</td>\n",
              "      <td>True</td>\n",
              "    </tr>\n",
              "    <tr>\n",
              "      <th>1048574</th>\n",
              "      <td>False</td>\n",
              "      <td>False</td>\n",
              "      <td>False</td>\n",
              "      <td>False</td>\n",
              "      <td>True</td>\n",
              "      <td>False</td>\n",
              "      <td>False</td>\n",
              "      <td>True</td>\n",
              "      <td>False</td>\n",
              "      <td>False</td>\n",
              "      <td>False</td>\n",
              "      <td>False</td>\n",
              "      <td>False</td>\n",
              "      <td>False</td>\n",
              "      <td>False</td>\n",
              "      <td>False</td>\n",
              "      <td>False</td>\n",
              "      <td>False</td>\n",
              "      <td>False</td>\n",
              "      <td>True</td>\n",
              "    </tr>\n",
              "  </tbody>\n",
              "</table>\n",
              "<p>1048575 rows × 20 columns</p>\n",
              "</div>"
            ],
            "text/plain": [
              "         USMER    SEX  PATIENT_TYPE  DATE_DIED  INTUBED  PNEUMONIA    AGE  \\\n",
              "0        False  False         False      False     True      False  False   \n",
              "1        False  False         False      False     True      False  False   \n",
              "2        False  False         False      False    False      False  False   \n",
              "3        False  False         False      False     True      False  False   \n",
              "4        False  False         False      False     True      False  False   \n",
              "...        ...    ...           ...        ...      ...        ...    ...   \n",
              "1048570  False  False         False      False     True      False  False   \n",
              "1048571  False  False         False      False    False      False  False   \n",
              "1048572  False  False         False      False     True      False  False   \n",
              "1048573  False  False         False      False     True      False  False   \n",
              "1048574  False  False         False      False     True      False  False   \n",
              "\n",
              "         PREGNANT  DIABETES   COPD  ASTHMA  INMSUPR  HIPERTENSION  \\\n",
              "0           False     False  False   False    False         False   \n",
              "1            True     False  False   False    False         False   \n",
              "2            True     False  False   False    False         False   \n",
              "3           False     False  False   False    False         False   \n",
              "4            True     False  False   False    False         False   \n",
              "...           ...       ...    ...     ...      ...           ...   \n",
              "1048570      True     False  False   False    False         False   \n",
              "1048571      True     False  False   False    False         False   \n",
              "1048572      True     False  False   False    False         False   \n",
              "1048573      True     False  False   False    False         False   \n",
              "1048574      True     False  False   False    False         False   \n",
              "\n",
              "         OTHER_DISEASE  CARDIOVASCULAR  OBESITY  RENAL_CHRONIC  TOBACCO  \\\n",
              "0                False           False    False          False    False   \n",
              "1                False           False    False          False    False   \n",
              "2                False           False    False          False    False   \n",
              "3                False           False    False          False    False   \n",
              "4                False           False    False          False    False   \n",
              "...                ...             ...      ...            ...      ...   \n",
              "1048570          False           False    False          False    False   \n",
              "1048571          False           False    False          False    False   \n",
              "1048572          False           False    False          False    False   \n",
              "1048573          False           False    False          False    False   \n",
              "1048574          False           False    False          False    False   \n",
              "\n",
              "         CLASIFFICATION_FINAL    ICU  \n",
              "0                       False   True  \n",
              "1                       False   True  \n",
              "2                       False  False  \n",
              "3                       False   True  \n",
              "4                       False   True  \n",
              "...                       ...    ...  \n",
              "1048570                 False   True  \n",
              "1048571                 False  False  \n",
              "1048572                 False   True  \n",
              "1048573                 False   True  \n",
              "1048574                 False   True  \n",
              "\n",
              "[1048575 rows x 20 columns]"
            ]
          },
          "execution_count": 6,
          "metadata": {},
          "output_type": "execute_result"
        }
      ],
      "source": [
        "mask"
      ]
    },
    {
      "cell_type": "code",
      "execution_count": 7,
      "metadata": {
        "id": "_cqecNGQEGfg"
      },
      "outputs": [],
      "source": [
        "df[df == 97] = np.nan\n",
        "df[df == 98] = np.nan"
      ]
    },
    {
      "cell_type": "code",
      "execution_count": 8,
      "metadata": {
        "colab": {
          "base_uri": "https://localhost:8080/",
          "height": 206
        },
        "id": "MzdlOvkeDzV1",
        "outputId": "0afeec3a-8999-464b-a8b9-fcf2a5848b7e"
      },
      "outputs": [
        {
          "data": {
            "text/html": [
              "<div>\n",
              "<style scoped>\n",
              "    .dataframe tbody tr th:only-of-type {\n",
              "        vertical-align: middle;\n",
              "    }\n",
              "\n",
              "    .dataframe tbody tr th {\n",
              "        vertical-align: top;\n",
              "    }\n",
              "\n",
              "    .dataframe thead th {\n",
              "        text-align: right;\n",
              "    }\n",
              "</style>\n",
              "<table border=\"1\" class=\"dataframe\">\n",
              "  <thead>\n",
              "    <tr style=\"text-align: right;\">\n",
              "      <th></th>\n",
              "      <th>USMER</th>\n",
              "      <th>SEX</th>\n",
              "      <th>PATIENT_TYPE</th>\n",
              "      <th>DATE_DIED</th>\n",
              "      <th>INTUBED</th>\n",
              "      <th>PNEUMONIA</th>\n",
              "      <th>AGE</th>\n",
              "      <th>PREGNANT</th>\n",
              "      <th>DIABETES</th>\n",
              "      <th>COPD</th>\n",
              "      <th>ASTHMA</th>\n",
              "      <th>INMSUPR</th>\n",
              "      <th>HIPERTENSION</th>\n",
              "      <th>OTHER_DISEASE</th>\n",
              "      <th>CARDIOVASCULAR</th>\n",
              "      <th>OBESITY</th>\n",
              "      <th>RENAL_CHRONIC</th>\n",
              "      <th>TOBACCO</th>\n",
              "      <th>CLASIFFICATION_FINAL</th>\n",
              "      <th>ICU</th>\n",
              "    </tr>\n",
              "  </thead>\n",
              "  <tbody>\n",
              "    <tr>\n",
              "      <th>0</th>\n",
              "      <td>2</td>\n",
              "      <td>1</td>\n",
              "      <td>1</td>\n",
              "      <td>03/05/2020</td>\n",
              "      <td>NaN</td>\n",
              "      <td>1</td>\n",
              "      <td>65.0</td>\n",
              "      <td>2.0</td>\n",
              "      <td>2.0</td>\n",
              "      <td>2.0</td>\n",
              "      <td>2.0</td>\n",
              "      <td>2.0</td>\n",
              "      <td>1.0</td>\n",
              "      <td>2.0</td>\n",
              "      <td>2.0</td>\n",
              "      <td>2.0</td>\n",
              "      <td>2.0</td>\n",
              "      <td>2.0</td>\n",
              "      <td>3</td>\n",
              "      <td>NaN</td>\n",
              "    </tr>\n",
              "    <tr>\n",
              "      <th>1</th>\n",
              "      <td>2</td>\n",
              "      <td>2</td>\n",
              "      <td>1</td>\n",
              "      <td>03/06/2020</td>\n",
              "      <td>NaN</td>\n",
              "      <td>1</td>\n",
              "      <td>72.0</td>\n",
              "      <td>NaN</td>\n",
              "      <td>2.0</td>\n",
              "      <td>2.0</td>\n",
              "      <td>2.0</td>\n",
              "      <td>2.0</td>\n",
              "      <td>1.0</td>\n",
              "      <td>2.0</td>\n",
              "      <td>2.0</td>\n",
              "      <td>1.0</td>\n",
              "      <td>1.0</td>\n",
              "      <td>2.0</td>\n",
              "      <td>5</td>\n",
              "      <td>NaN</td>\n",
              "    </tr>\n",
              "    <tr>\n",
              "      <th>2</th>\n",
              "      <td>2</td>\n",
              "      <td>2</td>\n",
              "      <td>2</td>\n",
              "      <td>09/06/2020</td>\n",
              "      <td>1.0</td>\n",
              "      <td>2</td>\n",
              "      <td>55.0</td>\n",
              "      <td>NaN</td>\n",
              "      <td>1.0</td>\n",
              "      <td>2.0</td>\n",
              "      <td>2.0</td>\n",
              "      <td>2.0</td>\n",
              "      <td>2.0</td>\n",
              "      <td>2.0</td>\n",
              "      <td>2.0</td>\n",
              "      <td>2.0</td>\n",
              "      <td>2.0</td>\n",
              "      <td>2.0</td>\n",
              "      <td>3</td>\n",
              "      <td>2.0</td>\n",
              "    </tr>\n",
              "    <tr>\n",
              "      <th>3</th>\n",
              "      <td>2</td>\n",
              "      <td>1</td>\n",
              "      <td>1</td>\n",
              "      <td>12/06/2020</td>\n",
              "      <td>NaN</td>\n",
              "      <td>2</td>\n",
              "      <td>53.0</td>\n",
              "      <td>2.0</td>\n",
              "      <td>2.0</td>\n",
              "      <td>2.0</td>\n",
              "      <td>2.0</td>\n",
              "      <td>2.0</td>\n",
              "      <td>2.0</td>\n",
              "      <td>2.0</td>\n",
              "      <td>2.0</td>\n",
              "      <td>2.0</td>\n",
              "      <td>2.0</td>\n",
              "      <td>2.0</td>\n",
              "      <td>7</td>\n",
              "      <td>NaN</td>\n",
              "    </tr>\n",
              "    <tr>\n",
              "      <th>4</th>\n",
              "      <td>2</td>\n",
              "      <td>2</td>\n",
              "      <td>1</td>\n",
              "      <td>21/06/2020</td>\n",
              "      <td>NaN</td>\n",
              "      <td>2</td>\n",
              "      <td>68.0</td>\n",
              "      <td>NaN</td>\n",
              "      <td>1.0</td>\n",
              "      <td>2.0</td>\n",
              "      <td>2.0</td>\n",
              "      <td>2.0</td>\n",
              "      <td>1.0</td>\n",
              "      <td>2.0</td>\n",
              "      <td>2.0</td>\n",
              "      <td>2.0</td>\n",
              "      <td>2.0</td>\n",
              "      <td>2.0</td>\n",
              "      <td>3</td>\n",
              "      <td>NaN</td>\n",
              "    </tr>\n",
              "  </tbody>\n",
              "</table>\n",
              "</div>"
            ],
            "text/plain": [
              "   USMER  SEX  PATIENT_TYPE   DATE_DIED  INTUBED  PNEUMONIA   AGE  PREGNANT  \\\n",
              "0      2    1             1  03/05/2020      NaN          1  65.0       2.0   \n",
              "1      2    2             1  03/06/2020      NaN          1  72.0       NaN   \n",
              "2      2    2             2  09/06/2020      1.0          2  55.0       NaN   \n",
              "3      2    1             1  12/06/2020      NaN          2  53.0       2.0   \n",
              "4      2    2             1  21/06/2020      NaN          2  68.0       NaN   \n",
              "\n",
              "   DIABETES  COPD  ASTHMA  INMSUPR  HIPERTENSION  OTHER_DISEASE  \\\n",
              "0       2.0   2.0     2.0      2.0           1.0            2.0   \n",
              "1       2.0   2.0     2.0      2.0           1.0            2.0   \n",
              "2       1.0   2.0     2.0      2.0           2.0            2.0   \n",
              "3       2.0   2.0     2.0      2.0           2.0            2.0   \n",
              "4       1.0   2.0     2.0      2.0           1.0            2.0   \n",
              "\n",
              "   CARDIOVASCULAR  OBESITY  RENAL_CHRONIC  TOBACCO  CLASIFFICATION_FINAL  ICU  \n",
              "0             2.0      2.0            2.0      2.0                     3  NaN  \n",
              "1             2.0      1.0            1.0      2.0                     5  NaN  \n",
              "2             2.0      2.0            2.0      2.0                     3  2.0  \n",
              "3             2.0      2.0            2.0      2.0                     7  NaN  \n",
              "4             2.0      2.0            2.0      2.0                     3  NaN  "
            ]
          },
          "execution_count": 8,
          "metadata": {},
          "output_type": "execute_result"
        }
      ],
      "source": [
        "df.head()"
      ]
    },
    {
      "cell_type": "code",
      "execution_count": 9,
      "metadata": {
        "id": "peVRKX70Dj3E"
      },
      "outputs": [],
      "source": [
        "df = df.fillna(method='ffill')\n",
        "df = df.fillna(method=\"bfill\")"
      ]
    },
    {
      "cell_type": "code",
      "execution_count": 10,
      "metadata": {
        "colab": {
          "base_uri": "https://localhost:8080/"
        },
        "id": "NO5-Xl3tE7ot",
        "outputId": "4d9ca373-6137-4c89-f4c2-9a7d71c78d50"
      },
      "outputs": [
        {
          "data": {
            "text/plain": [
              "USMER                   0\n",
              "SEX                     0\n",
              "PATIENT_TYPE            0\n",
              "DATE_DIED               0\n",
              "INTUBED                 0\n",
              "PNEUMONIA               0\n",
              "AGE                     0\n",
              "PREGNANT                0\n",
              "DIABETES                0\n",
              "COPD                    0\n",
              "ASTHMA                  0\n",
              "INMSUPR                 0\n",
              "HIPERTENSION            0\n",
              "OTHER_DISEASE           0\n",
              "CARDIOVASCULAR          0\n",
              "OBESITY                 0\n",
              "RENAL_CHRONIC           0\n",
              "TOBACCO                 0\n",
              "CLASIFFICATION_FINAL    0\n",
              "ICU                     0\n",
              "dtype: int64"
            ]
          },
          "execution_count": 10,
          "metadata": {},
          "output_type": "execute_result"
        }
      ],
      "source": [
        "df.isnull().sum()"
      ]
    },
    {
      "cell_type": "markdown",
      "metadata": {
        "id": "3-pjjbfEcaeK"
      },
      "source": [
        "Melakukan encode data dengan mengubah ke 1 dan 0, tidak = 0 dan ya = 1"
      ]
    },
    {
      "cell_type": "code",
      "execution_count": 11,
      "metadata": {
        "id": "KOB05_3JaMv9"
      },
      "outputs": [],
      "source": [
        "CATEGORICAL_COLUMNS = [\n",
        "    'SEX',\n",
        "    'USMER',\n",
        "    'PNEUMONIA',\n",
        "    'DIABETES',\n",
        "    'COPD',\n",
        "    'ASTHMA',\n",
        "    'INMSUPR',\n",
        "    'HIPERTENSION',\n",
        "    'OTHER_DISEASE',\n",
        "    'CARDIOVASCULAR',\n",
        "    'OBESITY',\n",
        "    'RENAL_CHRONIC',\n",
        "    'TOBACCO',\n",
        "    'PREGNANT',\n",
        "    'INTUBED',\n",
        "    'ICU'\n",
        "]\n",
        "\n",
        "for categorical in CATEGORICAL_COLUMNS:\n",
        "    df[categorical] = df[categorical].apply(lambda x: x if x == 1 else 0)\n",
        "\n",
        "df.PATIENT_TYPE = df.PATIENT_TYPE.apply(lambda x: 0 if x == 1 else 1)\n",
        "df.DATE_DIED = df.DATE_DIED.apply(lambda x: 0 if x == '9999-99-99' else 1)\n"
      ]
    },
    {
      "cell_type": "markdown",
      "metadata": {
        "id": "-zU9Jpl5cnB5"
      },
      "source": [
        "Karena kolom date_died, intubed, dan icu merupakan kolom decision yang menandakan bahwa pasien terkena covid 19, maka dibuat satu kolom decision dengan mengambil value dari kolom date_died, intubed, dan icu supaya tidak ada duplikasi kolom decision"
      ]
    },
    {
      "cell_type": "code",
      "execution_count": 12,
      "metadata": {
        "id": "cauiexPkaMwA"
      },
      "outputs": [],
      "source": [
        "df['COVID'] = df.DATE_DIED + df.INTUBED + df.ICU\n",
        "df.COVID = df.COVID.apply(lambda x: 1 if x > 0 else 0)"
      ]
    },
    {
      "cell_type": "markdown",
      "metadata": {
        "id": "JmreLYyac95v"
      },
      "source": [
        "Karena sudah mempunyai attribute decision yang baru, maka kolom decision yang tidak perlu dapat dihapus"
      ]
    },
    {
      "cell_type": "code",
      "execution_count": 13,
      "metadata": {
        "id": "lOBJ-k1caMwB"
      },
      "outputs": [],
      "source": [
        "df.drop(columns=['CLASIFFICATION_FINAL', 'DATE_DIED', 'INTUBED', 'ICU'], inplace=True)"
      ]
    },
    {
      "cell_type": "code",
      "execution_count": 14,
      "metadata": {
        "colab": {
          "base_uri": "https://localhost:8080/"
        },
        "id": "EOjeqpLlaMwC",
        "outputId": "8f925e48-82f7-4366-a40f-71866464d865"
      },
      "outputs": [
        {
          "name": "stdout",
          "output_type": "stream",
          "text": [
            "<class 'pandas.core.frame.DataFrame'>\n",
            "RangeIndex: 1048575 entries, 0 to 1048574\n",
            "Data columns (total 17 columns):\n",
            " #   Column          Non-Null Count    Dtype  \n",
            "---  ------          --------------    -----  \n",
            " 0   USMER           1048575 non-null  int64  \n",
            " 1   SEX             1048575 non-null  int64  \n",
            " 2   PATIENT_TYPE    1048575 non-null  int64  \n",
            " 3   PNEUMONIA       1048575 non-null  int64  \n",
            " 4   AGE             1048575 non-null  float64\n",
            " 5   PREGNANT        1048575 non-null  float64\n",
            " 6   DIABETES        1048575 non-null  float64\n",
            " 7   COPD            1048575 non-null  float64\n",
            " 8   ASTHMA          1048575 non-null  float64\n",
            " 9   INMSUPR         1048575 non-null  float64\n",
            " 10  HIPERTENSION    1048575 non-null  float64\n",
            " 11  OTHER_DISEASE   1048575 non-null  float64\n",
            " 12  CARDIOVASCULAR  1048575 non-null  float64\n",
            " 13  OBESITY         1048575 non-null  float64\n",
            " 14  RENAL_CHRONIC   1048575 non-null  float64\n",
            " 15  TOBACCO         1048575 non-null  float64\n",
            " 16  COVID           1048575 non-null  int64  \n",
            "dtypes: float64(12), int64(5)\n",
            "memory usage: 136.0 MB\n"
          ]
        }
      ],
      "source": [
        "df.info()"
      ]
    },
    {
      "cell_type": "code",
      "execution_count": 15,
      "metadata": {
        "colab": {
          "base_uri": "https://localhost:8080/",
          "height": 206
        },
        "id": "GvGe3lyl1izJ",
        "outputId": "5e5bc06a-a8ff-47da-d806-1a5d9bf2d082"
      },
      "outputs": [
        {
          "data": {
            "text/html": [
              "<div>\n",
              "<style scoped>\n",
              "    .dataframe tbody tr th:only-of-type {\n",
              "        vertical-align: middle;\n",
              "    }\n",
              "\n",
              "    .dataframe tbody tr th {\n",
              "        vertical-align: top;\n",
              "    }\n",
              "\n",
              "    .dataframe thead th {\n",
              "        text-align: right;\n",
              "    }\n",
              "</style>\n",
              "<table border=\"1\" class=\"dataframe\">\n",
              "  <thead>\n",
              "    <tr style=\"text-align: right;\">\n",
              "      <th></th>\n",
              "      <th>USMER</th>\n",
              "      <th>SEX</th>\n",
              "      <th>PATIENT_TYPE</th>\n",
              "      <th>PNEUMONIA</th>\n",
              "      <th>AGE</th>\n",
              "      <th>PREGNANT</th>\n",
              "      <th>DIABETES</th>\n",
              "      <th>COPD</th>\n",
              "      <th>ASTHMA</th>\n",
              "      <th>INMSUPR</th>\n",
              "      <th>HIPERTENSION</th>\n",
              "      <th>OTHER_DISEASE</th>\n",
              "      <th>CARDIOVASCULAR</th>\n",
              "      <th>OBESITY</th>\n",
              "      <th>RENAL_CHRONIC</th>\n",
              "      <th>TOBACCO</th>\n",
              "      <th>COVID</th>\n",
              "    </tr>\n",
              "  </thead>\n",
              "  <tbody>\n",
              "    <tr>\n",
              "      <th>0</th>\n",
              "      <td>0</td>\n",
              "      <td>1</td>\n",
              "      <td>0</td>\n",
              "      <td>1</td>\n",
              "      <td>65.0</td>\n",
              "      <td>0.0</td>\n",
              "      <td>0.0</td>\n",
              "      <td>0.0</td>\n",
              "      <td>0.0</td>\n",
              "      <td>0.0</td>\n",
              "      <td>1.0</td>\n",
              "      <td>0.0</td>\n",
              "      <td>0.0</td>\n",
              "      <td>0.0</td>\n",
              "      <td>0.0</td>\n",
              "      <td>0.0</td>\n",
              "      <td>1</td>\n",
              "    </tr>\n",
              "    <tr>\n",
              "      <th>1</th>\n",
              "      <td>0</td>\n",
              "      <td>0</td>\n",
              "      <td>0</td>\n",
              "      <td>1</td>\n",
              "      <td>72.0</td>\n",
              "      <td>0.0</td>\n",
              "      <td>0.0</td>\n",
              "      <td>0.0</td>\n",
              "      <td>0.0</td>\n",
              "      <td>0.0</td>\n",
              "      <td>1.0</td>\n",
              "      <td>0.0</td>\n",
              "      <td>0.0</td>\n",
              "      <td>1.0</td>\n",
              "      <td>1.0</td>\n",
              "      <td>0.0</td>\n",
              "      <td>1</td>\n",
              "    </tr>\n",
              "    <tr>\n",
              "      <th>2</th>\n",
              "      <td>0</td>\n",
              "      <td>0</td>\n",
              "      <td>1</td>\n",
              "      <td>0</td>\n",
              "      <td>55.0</td>\n",
              "      <td>0.0</td>\n",
              "      <td>1.0</td>\n",
              "      <td>0.0</td>\n",
              "      <td>0.0</td>\n",
              "      <td>0.0</td>\n",
              "      <td>0.0</td>\n",
              "      <td>0.0</td>\n",
              "      <td>0.0</td>\n",
              "      <td>0.0</td>\n",
              "      <td>0.0</td>\n",
              "      <td>0.0</td>\n",
              "      <td>1</td>\n",
              "    </tr>\n",
              "    <tr>\n",
              "      <th>3</th>\n",
              "      <td>0</td>\n",
              "      <td>1</td>\n",
              "      <td>0</td>\n",
              "      <td>0</td>\n",
              "      <td>53.0</td>\n",
              "      <td>0.0</td>\n",
              "      <td>0.0</td>\n",
              "      <td>0.0</td>\n",
              "      <td>0.0</td>\n",
              "      <td>0.0</td>\n",
              "      <td>0.0</td>\n",
              "      <td>0.0</td>\n",
              "      <td>0.0</td>\n",
              "      <td>0.0</td>\n",
              "      <td>0.0</td>\n",
              "      <td>0.0</td>\n",
              "      <td>1</td>\n",
              "    </tr>\n",
              "    <tr>\n",
              "      <th>4</th>\n",
              "      <td>0</td>\n",
              "      <td>0</td>\n",
              "      <td>0</td>\n",
              "      <td>0</td>\n",
              "      <td>68.0</td>\n",
              "      <td>0.0</td>\n",
              "      <td>1.0</td>\n",
              "      <td>0.0</td>\n",
              "      <td>0.0</td>\n",
              "      <td>0.0</td>\n",
              "      <td>1.0</td>\n",
              "      <td>0.0</td>\n",
              "      <td>0.0</td>\n",
              "      <td>0.0</td>\n",
              "      <td>0.0</td>\n",
              "      <td>0.0</td>\n",
              "      <td>1</td>\n",
              "    </tr>\n",
              "  </tbody>\n",
              "</table>\n",
              "</div>"
            ],
            "text/plain": [
              "   USMER  SEX  PATIENT_TYPE  PNEUMONIA   AGE  PREGNANT  DIABETES  COPD  \\\n",
              "0      0    1             0          1  65.0       0.0       0.0   0.0   \n",
              "1      0    0             0          1  72.0       0.0       0.0   0.0   \n",
              "2      0    0             1          0  55.0       0.0       1.0   0.0   \n",
              "3      0    1             0          0  53.0       0.0       0.0   0.0   \n",
              "4      0    0             0          0  68.0       0.0       1.0   0.0   \n",
              "\n",
              "   ASTHMA  INMSUPR  HIPERTENSION  OTHER_DISEASE  CARDIOVASCULAR  OBESITY  \\\n",
              "0     0.0      0.0           1.0            0.0             0.0      0.0   \n",
              "1     0.0      0.0           1.0            0.0             0.0      1.0   \n",
              "2     0.0      0.0           0.0            0.0             0.0      0.0   \n",
              "3     0.0      0.0           0.0            0.0             0.0      0.0   \n",
              "4     0.0      0.0           1.0            0.0             0.0      0.0   \n",
              "\n",
              "   RENAL_CHRONIC  TOBACCO  COVID  \n",
              "0            0.0      0.0      1  \n",
              "1            1.0      0.0      1  \n",
              "2            0.0      0.0      1  \n",
              "3            0.0      0.0      1  \n",
              "4            0.0      0.0      1  "
            ]
          },
          "execution_count": 15,
          "metadata": {},
          "output_type": "execute_result"
        }
      ],
      "source": [
        "df.head()"
      ]
    },
    {
      "cell_type": "code",
      "execution_count": 16,
      "metadata": {
        "id": "1es2Rs9VaMwE"
      },
      "outputs": [],
      "source": [
        "train, test = train_test_split(\n",
        "    df,\n",
        "    test_size=0.2,\n",
        "    shuffle=50\n",
        ")\n",
        "\n"
      ]
    },
    {
      "cell_type": "code",
      "execution_count": 17,
      "metadata": {
        "id": "yH91Es0IaMwF"
      },
      "outputs": [],
      "source": [
        "y_test = test.COVID.to_numpy()\n",
        "x_test = test.drop(columns=['COVID']).to_numpy()\n",
        "\n",
        "y_train = train.COVID.to_numpy()\n",
        "x_train = train.drop(columns=['COVID']).to_numpy()\n"
      ]
    },
    {
      "cell_type": "code",
      "execution_count": 18,
      "metadata": {
        "id": "ZmcyKKxAaMwJ"
      },
      "outputs": [],
      "source": [
        "logistic_regression = LogisticRegression(C=0.33598182862837817, penalty='l1', solver='liblinear')\n",
        "random_forest = RandomForestClassifier(max_depth=10, min_samples_split=20, n_estimators=81, random_state=0)\n",
        "decision_tree = DecisionTreeClassifier(max_depth=3, min_samples_split=10)\n",
        "gradient_boosting = GradientBoostingClassifier(random_state=0)\n",
        "mlp_classifier = MLPClassifier()\n",
        "xgb_boost = XGBClassifier()"
      ]
    },
    {
      "cell_type": "code",
      "execution_count": 19,
      "metadata": {
        "id": "EIdUIYsSQd8s"
      },
      "outputs": [],
      "source": [
        "model_scores = {}"
      ]
    },
    {
      "cell_type": "markdown",
      "metadata": {
        "id": "sRine6yraMwK"
      },
      "source": [
        "LOGISTIC REGRESSION"
      ]
    },
    {
      "cell_type": "code",
      "execution_count": 20,
      "metadata": {
        "id": "127d5MZ1k5QA"
      },
      "outputs": [],
      "source": [
        "logistic_param_grid = {\n",
        "    'C': np.logspace(-1, 4, 20),\n",
        "    'penalty': ['l1', 'l2'],\n",
        "    'solver': ['liblinear']\n",
        "}\n",
        "\n",
        "#halving_grid_search = HalvingGridSearchCV(logistic_regression, logistic_param_grid, cv=5).fit(x_train, y_train)\n",
        "#halving_grid_search.best_estimator_"
      ]
    },
    {
      "cell_type": "code",
      "execution_count": 21,
      "metadata": {
        "id": "dQfDS7z-aMwM"
      },
      "outputs": [],
      "source": [
        "logistic_regression.fit(x_train, y_train)\n",
        "model_scores['Logistic Regression'] = [\n",
        "    logistic_regression.score(x_train, y_train),\n",
        "    logistic_regression.score(x_test, y_test),\n",
        "]"
      ]
    },
    {
      "cell_type": "markdown",
      "metadata": {
        "id": "-6_YyKs5aMwO"
      },
      "source": [
        "Random Forest Classifier"
      ]
    },
    {
      "cell_type": "code",
      "execution_count": null,
      "metadata": {
        "id": "l-t6Ex_4fwBi"
      },
      "outputs": [],
      "source": [
        "random_forest_param_grid = {\n",
        "    'max_depth': [3, 5, 10, 15, 20, None],\n",
        "    'min_samples_split': [2, 5, 10, 15, 20]\n",
        "}\n",
        "\n",
        "# halving_grid_search = HalvingGridSearchCV(random_forest, \n",
        "#                                           random_forest_param_grid, \n",
        "#                                           cv=5,\n",
        "#                                           factor=3,\n",
        "#                                           resource='n_estimators',\n",
        "#                                           max_resources=100).fit(x_train, y_train)\n",
        "# halving_grid_search.best_estimator_"
      ]
    },
    {
      "cell_type": "code",
      "execution_count": null,
      "metadata": {
        "id": "GXudRJhvaMwO"
      },
      "outputs": [],
      "source": [
        "random_forest.fit(x_train, y_train)\n",
        "model_scores['Random Forest'] = [\n",
        "    random_forest.score(x_train, y_train),\n",
        "    random_forest.score(x_test, y_test)\n",
        "]\n"
      ]
    },
    {
      "cell_type": "markdown",
      "metadata": {
        "id": "GXaKxbt9aMwP"
      },
      "source": [
        "Decision Tree Classifier"
      ]
    },
    {
      "cell_type": "code",
      "execution_count": null,
      "metadata": {
        "id": "TudShGTYjdG4"
      },
      "outputs": [],
      "source": [
        "decision_param_grid = {\n",
        "    'max_depth': [3, 5, 10, 15, 20, None],\n",
        "    'min_samples_split': [2, 5, 10, 15, 20]\n",
        "}\n",
        "\n",
        "#halving_grid_search = HalvingGridSearchCV(decision_tree, \n",
        "                                          # decision_param_grid, \n",
        "                                          # cv=5,\n",
        "                                          # max_resources=100).fit(x_train, y_train)\n",
        "#halving_grid_search.best_estimator_"
      ]
    },
    {
      "cell_type": "code",
      "execution_count": null,
      "metadata": {
        "id": "kLCZTXKMaMwQ"
      },
      "outputs": [],
      "source": [
        "decision_tree.fit(x_train, y_train)\n",
        "decision_tree_score = decision_tree.score(x_test, y_test)\n",
        "model_scores['Decision Tree'] = [\n",
        "    decision_tree.score(x_train, y_train),\n",
        "    decision_tree.score(x_test, y_test)\n",
        "]\n"
      ]
    },
    {
      "cell_type": "markdown",
      "metadata": {
        "id": "N5x1EqXEaMwQ"
      },
      "source": [
        "GRADIENT BOOST"
      ]
    },
    {
      "cell_type": "code",
      "execution_count": null,
      "metadata": {
        "id": "QrkJs-xDoRYk"
      },
      "outputs": [],
      "source": [
        "gradient_param_grid = {\n",
        "    'learning_rate': [0.1, 0.01, 0.001],\n",
        "    'max_depth': [3, 5, 7]\n",
        "}\n",
        "\n",
        "#halving_grid_search = HalvingGridSearchCV(gradient_boosting, gradient_param_grid, cv=5).fit(x_train, y_train)\n",
        "\n",
        "#halving_grid_search.best_estimator_"
      ]
    },
    {
      "cell_type": "code",
      "execution_count": null,
      "metadata": {
        "id": "8rUd2k9eaMwR"
      },
      "outputs": [],
      "source": [
        "gradient_boosting.fit(x_train, y_train)\n",
        "model_scores['Gradient Boosting'] = [\n",
        "    gradient_boosting.score(x_train, y_train),\n",
        "    gradient_boosting.score(x_test, y_test)\n",
        "]\n"
      ]
    },
    {
      "cell_type": "markdown",
      "metadata": {
        "id": "VQI9MbmoaMwS"
      },
      "source": [
        "MLP Classifier"
      ]
    },
    {
      "cell_type": "code",
      "execution_count": null,
      "metadata": {
        "id": "Nhls5zvGo8Zx"
      },
      "outputs": [],
      "source": [
        "mlp_param_grid = {\n",
        "    'hidden_layer_sizes': [(100,), (100, 100), (100, 100, 100)],\n",
        "    'learning_rate_init': [0.1, 0.01, 0.001]\n",
        "}\n",
        "\n",
        "# halving_grid_search = HalvingGridSearchCV(mlp_classifier, mlp_param_grid, cv=5).fit(x_train, y_train)\n",
        "\n",
        "\n",
        "# halving_grid_search.best_estimator_"
      ]
    },
    {
      "cell_type": "code",
      "execution_count": null,
      "metadata": {
        "id": "uwh6oqVAaMwS"
      },
      "outputs": [],
      "source": [
        "mlp_classifier.fit(x_train, y_train)\n",
        "\n",
        "model_scores['MLP Classifier'] = [\n",
        "    mlp_classifier.score(x_train, y_train),\n",
        "    mlp_classifier.score(x_test, y_test)\n",
        "]\n"
      ]
    },
    {
      "cell_type": "markdown",
      "metadata": {
        "id": "7zdxD9sYSVlF"
      },
      "source": [
        "XGBOOST CLASSIFIER"
      ]
    },
    {
      "cell_type": "code",
      "execution_count": null,
      "metadata": {
        "id": "xzOIH02WSXYc"
      },
      "outputs": [],
      "source": [
        "xgb_boost.fit(x_train, y_train)\n",
        "\n",
        "model_scores['XGB Boost'] = [\n",
        "    xgb_boost.score(x_train, y_train),\n",
        "    xgb_boost.score(x_test, y_test)\n",
        "]\n"
      ]
    },
    {
      "cell_type": "code",
      "execution_count": null,
      "metadata": {
        "colab": {
          "base_uri": "https://localhost:8080/"
        },
        "id": "Iub1yR175XB9",
        "outputId": "8a3af01e-729e-4931-b37f-e6d870a5c246"
      },
      "outputs": [
        {
          "data": {
            "text/plain": [
              "{'Logistic Regression': [0.8440335693679517, 0.8416231552344849],\n",
              " 'Random Forest': [0.8452363922466204, 0.8417375962615932],\n",
              " 'Decision Tree': [0.8429881029015569, 0.8407267005221372],\n",
              " 'Gradient Boosting': [0.8447082945902773, 0.8417519013899817],\n",
              " 'MLP Classifier': [0.8439727725723005, 0.8415707030970603],\n",
              " 'XGB Boost': [0.8446117349736547, 0.8415611663448013]}"
            ]
          },
          "execution_count": 45,
          "metadata": {},
          "output_type": "execute_result"
        }
      ],
      "source": [
        "model_scores"
      ]
    },
    {
      "cell_type": "code",
      "execution_count": null,
      "metadata": {
        "colab": {
          "base_uri": "https://localhost:8080/",
          "height": 350
        },
        "id": "hCFI7xF5aMwT",
        "outputId": "239235ea-d714-4b32-de83-27dca530475b"
      },
      "outputs": [
        {
          "data": {
            "image/png": "[encoded data removed]",
            "text/plain": [
              "<Figure size 720x360 with 1 Axes>"
            ]
          },
          "metadata": {
            "needs_background": "light"
          },
          "output_type": "display_data"
        }
      ],
      "source": [
        "# Draw a plot of the algorithm scores\n",
        "score_by_training = [model_scores[x][0] for x in model_scores]\n",
        "score_by_training.sort(reverse=True)\n",
        "plt.figure(figsize=(10, 5))\n",
        "plt.title('Algorithm Scores(Training)')\n",
        "plt.xlabel('Algorithm')\n",
        "plt.ylabel('Score')\n",
        "# 2 decimal places\n",
        "plt.bar([x for x in model_scores], score_by_training, color='blue')\n",
        "plt.ylim(0.8, 0.9)\n",
        "plt.show()\n"
      ]
    },
    {
      "cell_type": "code",
      "execution_count": null,
      "metadata": {
        "colab": {
          "base_uri": "https://localhost:8080/",
          "height": 350
        },
        "id": "eSM3NgqeSRp6",
        "outputId": "a6ead5a9-ae25-497b-a4f4-2dfedc25eb8a"
      },
      "outputs": [
        {
          "data": {
            "image/png": "[encoded data removed]",
            "text/plain": [
              "<Figure size 720x360 with 1 Axes>"
            ]
          },
          "metadata": {
            "needs_background": "light"
          },
          "output_type": "display_data"
        }
      ],
      "source": [
        "score_by_test = [model_scores[x][1] for x in model_scores]\n",
        "score_by_test.sort(reverse=True)\n",
        "plt.figure(figsize=(10, 5))\n",
        "plt.title('Algorithm Scores(Test)')\n",
        "plt.xlabel('Algorithm')\n",
        "plt.ylabel('Score')\n",
        "# 2 decimal places\n",
        "plt.bar([x for x in model_scores], score_by_test, color='blue')\n",
        "plt.ylim(0.80, 0.9)\n",
        "plt.show()\n"
      ]
    },
    {
      "cell_type": "code",
      "execution_count": null,
      "metadata": {
        "id": "fAbzqVYRaMwU"
      },
      "outputs": [],
      "source": [
        "# Predict the test set\n",
        "logistic_prediction = logistic_regression.predict(x_test)\n",
        "decision_tree_prediction = decision_tree.predict(x_test)\n",
        "random_forest_prediction = random_forest.predict(x_test)\n",
        "gradient_boosting_prediction = gradient_boosting.predict(x_test)\n",
        "mlp_classifier_prediction = mlp_classifier.predict(x_test)\n",
        "xgb_boost_prediction = xgb_boost.predict(x_test)\n",
        "\n"
      ]
    },
    {
      "cell_type": "code",
      "execution_count": null,
      "metadata": {
        "id": "Qd8iKY1MaMwW"
      },
      "outputs": [],
      "source": [
        "reports = {}\n",
        "reports['Decision Tree'] = classification_report(decision_tree_prediction, y_test, output_dict=True)\n",
        "reports['Gradient Boosting'] = classification_report(gradient_boosting_prediction, y_test, output_dict=True)\n",
        "reports['Random Forest'] = classification_report(random_forest_prediction, y_test, output_dict=True)\n",
        "reports['MLP Classifier'] = classification_report(mlp_classifier_prediction, y_test, output_dict=True)\n",
        "reports['Logistic Regression'] = classification_report(logistic_prediction, y_test, output_dict=True)\n",
        "reports['XGB Boost'] = classification_report(xgb_boost_prediction, y_test, output_dict=True)"
      ]
    },
    {
      "cell_type": "code",
      "execution_count": null,
      "metadata": {
        "colab": {
          "base_uri": "https://localhost:8080/",
          "height": 350
        },
        "id": "VtQQLRiSGTBe",
        "outputId": "ecdad5f1-49ce-442f-8b52-a3a77186ab09"
      },
      "outputs": [
        {
          "data": {
            "image/png": "[encoded data removed]",
            "text/plain": [
              "<Figure size 720x360 with 1 Axes>"
            ]
          },
          "metadata": {
            "needs_background": "light"
          },
          "output_type": "display_data"
        }
      ],
      "source": [
        "f1_score_by_macro_avg = [reports[x]['macro avg']['f1-score'] for x in reports]\n",
        "\n",
        "plt.figure(figsize=(10, 5))\n",
        "plt.title('F-measure macro avg')\n",
        "plt.xlabel('Algorithm')\n",
        "plt.ylabel('F-measure macro avg')\n",
        "plt.bar([x for x in reports], f1_score_by_macro_avg , color='blue')\n",
        "plt.ylim(0.61, 1)\n",
        "plt.show()"
      ]
    },
    {
      "cell_type": "code",
      "execution_count": null,
      "metadata": {
        "colab": {
          "base_uri": "https://localhost:8080/",
          "height": 350
        },
        "id": "lQbl0wK_HbK_",
        "outputId": "d6954112-f1f1-493a-f04d-ae3f1a486ea7"
      },
      "outputs": [
        {
          "data": {
            "image/png": "[encoded data removed]",
            "text/plain": [
              "<Figure size 720x360 with 1 Axes>"
            ]
          },
          "metadata": {
            "needs_background": "light"
          },
          "output_type": "display_data"
        }
      ],
      "source": [
        "f1_score_by_weigted_avg = [reports[x]['weighted avg']['f1-score'] for x in reports]\n",
        "\n",
        "plt.figure(figsize=(10, 5))\n",
        "plt.title('F-measure weighted avg')\n",
        "plt.xlabel('Algorithm')\n",
        "plt.ylabel('F-measure weighted avg')\n",
        "plt.bar([x for x in reports], f1_score_by_weigted_avg, color='blue')\n",
        "plt.ylim(0.8, 0.9)\n",
        "plt.show()"
      ]
    },
    {
      "cell_type": "code",
      "execution_count": null,
      "metadata": {
        "colab": {
          "base_uri": "https://localhost:8080/"
        },
        "id": "L0XIpBBlIYll",
        "outputId": "234dc02c-2266-4812-d781-3d638365db4a"
      },
      "outputs": [
        {
          "data": {
            "text/plain": [
              "0.8417519013899817"
            ]
          },
          "execution_count": 52,
          "metadata": {},
          "output_type": "execute_result"
        }
      ],
      "source": [
        "gradient_boosting.score(x_test, y_test)"
      ]
    },
    {
      "cell_type": "code",
      "execution_count": null,
      "metadata": {
        "colab": {
          "base_uri": "https://localhost:8080/"
        },
        "id": "YOeNuTvBP7Cc",
        "outputId": "0115a5de-1151-4ab8-ff58-c02489781120"
      },
      "outputs": [
        {
          "data": {
            "text/plain": [
              "{'Decision Tree': {'0': {'precision': 0.9652760990434092,\n",
              "   'recall': 0.8597022729369791,\n",
              "   'f1-score': 0.9094354969904018,\n",
              "   'support': 195078},\n",
              "  '1': {'precision': 0.23917938453840382,\n",
              "   'recall': 0.5878253740520598,\n",
              "   'f1-score': 0.3400118553645525,\n",
              "   'support': 14637},\n",
              "  'accuracy': 0.8407267005221372,\n",
              "  'macro avg': {'precision': 0.6022277417909065,\n",
              "   'recall': 0.7237638234945194,\n",
              "   'f1-score': 0.6247236761774771,\n",
              "   'support': 209715},\n",
              "  'weighted avg': {'precision': 0.9145983811395407,\n",
              "   'recall': 0.8407267005221372,\n",
              "   'f1-score': 0.8696927325602105,\n",
              "   'support': 209715}},\n",
              " 'Gradient Boosting': {'0': {'precision': 0.9668819283765584,\n",
              "   'recall': 0.8596210233291202,\n",
              "   'f1-score': 0.9101020416455604,\n",
              "   'support': 195421},\n",
              "  '1': {'precision': 0.23740027242654213,\n",
              "   'recall': 0.5974534769833496,\n",
              "   'f1-score': 0.33978554518869236,\n",
              "   'support': 14294},\n",
              "  'accuracy': 0.8417519013899817,\n",
              "  'macro avg': {'precision': 0.6021411004015502,\n",
              "   'recall': 0.7285372501562348,\n",
              "   'f1-score': 0.6249437934171264,\n",
              "   'support': 209715},\n",
              "  'weighted avg': {'precision': 0.9171610653474497,\n",
              "   'recall': 0.8417519013899817,\n",
              "   'f1-score': 0.8712297435249945,\n",
              "   'support': 209715}},\n",
              " 'Random Forest': {'0': {'precision': 0.9682057303357853,\n",
              "   'recall': 0.8587633497375998,\n",
              "   'f1-score': 0.9102065330902047,\n",
              "   'support': 195884},\n",
              "  '1': {'precision': 0.23092319239429573,\n",
              "   'recall': 0.6006073313570964,\n",
              "   'f1-score': 0.33358766364147463,\n",
              "   'support': 13831},\n",
              "  'accuracy': 0.8417375962615932,\n",
              "  'macro avg': {'precision': 0.5995644613650405,\n",
              "   'recall': 0.7296853405473481,\n",
              "   'f1-score': 0.6218970983658396,\n",
              "   'support': 209715},\n",
              "  'weighted avg': {'precision': 0.9195809072078794,\n",
              "   'recall': 0.8417375962615932,\n",
              "   'f1-score': 0.8721777054748917,\n",
              "   'support': 209715}},\n",
              " 'MLP Classifier': {'0': {'precision': 0.972654856050926,\n",
              "   'recall': 0.8558022940774315,\n",
              "   'f1-score': 0.9104946835593078,\n",
              "   'support': 197465},\n",
              "  '1': {'precision': 0.2084619019820421,\n",
              "   'recall': 0.6121632653061224,\n",
              "   'f1-score': 0.3110134168342907,\n",
              "   'support': 12250},\n",
              "  'accuracy': 0.8415707030970603,\n",
              "  'macro avg': {'precision': 0.5905583790164841,\n",
              "   'recall': 0.7339827796917769,\n",
              "   'f1-score': 0.6107540501967993,\n",
              "   'support': 209715},\n",
              "  'weighted avg': {'precision': 0.9280163529045424,\n",
              "   'recall': 0.8415707030970603,\n",
              "   'f1-score': 0.8754774195706495,\n",
              "   'support': 209715}},\n",
              " 'Logistic Regression': {'0': {'precision': 0.9687410067801683,\n",
              "   'recall': 0.8583179495548053,\n",
              "   'f1-score': 0.9101926259206784,\n",
              "   'support': 196094},\n",
              "  '1': {'precision': 0.2276707530647986,\n",
              "   'recall': 0.6012774392482196,\n",
              "   'f1-score': 0.330281888938178,\n",
              "   'support': 13621},\n",
              "  'accuracy': 0.8416231552344849,\n",
              "  'macro avg': {'precision': 0.5982058799224834,\n",
              "   'recall': 0.7297976944015125,\n",
              "   'f1-score': 0.6202372574294281,\n",
              "   'support': 209715},\n",
              "  'weighted avg': {'precision': 0.9206084558140617,\n",
              "   'recall': 0.8416231552344849,\n",
              "   'f1-score': 0.8725273938274154,\n",
              "   'support': 209715}},\n",
              " 'XGB Boost': {'0': {'precision': 0.9681539293895546,\n",
              "   'recall': 0.8586341199471167,\n",
              "   'f1-score': 0.9101110524963141,\n",
              "   'support': 195903},\n",
              "  '1': {'precision': 0.23014483084535625,\n",
              "   'recall': 0.5994063133507095,\n",
              "   'f1-score': 0.3325901375916441,\n",
              "   'support': 13812},\n",
              "  'accuracy': 0.8415611663448013,\n",
              "  'macro avg': {'precision': 0.5991493801174554,\n",
              "   'recall': 0.729020216648913,\n",
              "   'f1-score': 0.621350595043979,\n",
              "   'support': 209715},\n",
              "  'weighted avg': {'precision': 0.9195480515596784,\n",
              "   'recall': 0.8415611663448013,\n",
              "   'f1-score': 0.8720750566130282,\n",
              "   'support': 209715}}}"
            ]
          },
          "execution_count": 53,
          "metadata": {},
          "output_type": "execute_result"
        }
      ],
      "source": [
        "reports"
      ]
    },
    {
      "cell_type": "code",
      "execution_count": null,
      "metadata": {
        "id": "3LR2m2E7TE6W"
      },
      "outputs": [],
      "source": [
        "score_by_training.sort()"
      ]
    },
    {
      "cell_type": "code",
      "execution_count": null,
      "metadata": {
        "id": "2FETxb9WTJuj"
      },
      "outputs": [],
      "source": [
        "import joblib\n",
        "joblib.dump(gradient_boosting, 'gradient_boosting.pkl')\n",
        "joblib.dump(decision_tree, 'decision_tree.pkl')\n",
        "joblib.dump(random_forest, 'random_forest.pkl')\n",
        "joblib.dump(mlp_classifier, 'mlp_classifier.pkl')\n",
        "joblib.dump(xgb_boost, 'xgb_boost.pkl')\n",
        "joblib.dump(logistic_regression, 'logistic_regression.pkl')"
      ]
    }
  ],
  "metadata": {
    "accelerator": "TPU",
    "colab": {
      "provenance": []
    },
    "gpuClass": "standard",
    "kernelspec": {
      "display_name": "Python 3.10.6 ('env': venv)",
      "language": "python",
      "name": "python3"
    },
    "language_info": {
      "codemirror_mode": {
        "name": "ipython",
        "version": 3
      },
      "file_extension": ".py",
      "mimetype": "text/x-python",
      "name": "python",
      "nbconvert_exporter": "python",
      "pygments_lexer": "ipython3",
      "version": "3.10.6"
    },
    "vscode": {
      "interpreter": {
        "hash": "7f0b4af90163892ebef131360ba55367e93d4503c9301e266415b3646cbf33cd"
      }
    }
  },
  "nbformat": 4,
  "nbformat_minor": 0
}
