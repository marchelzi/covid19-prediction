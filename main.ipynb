{
 "cells": [
  {
   "cell_type": "code",
   "execution_count": 1,
   "metadata": {},
   "outputs": [],
   "source": [
    "import pandas as pd\n",
    "from sklearn.model_selection import train_test_split\n",
    "from sklearn.linear_model import LogisticRegression\n",
    "from sklearn.tree import DecisionTreeClassifier\n",
    "from sklearn.ensemble import RandomForestClassifier, GradientBoostingClassifier\n",
    "from sklearn.model_selection import train_test_split\n",
    "import numpy as np\n",
    "import pandas as pd\n",
    "from matplotlib import pyplot as plt\n",
    "from matplotlib.ticker import FormatStrFormatter\n",
    "from sklearn.neural_network import MLPClassifier\n",
    "from sklearn.metrics import f1_score"
   ]
  },
  {
   "cell_type": "code",
   "execution_count": 2,
   "metadata": {},
   "outputs": [],
   "source": [
    "df = pd.read_csv('./CovidData.csv')"
   ]
  },
  {
   "cell_type": "code",
   "execution_count": 3,
   "metadata": {},
   "outputs": [
    {
     "data": {
      "text/html": [
       "<div>\n",
       "<style scoped>\n",
       "    .dataframe tbody tr th:only-of-type {\n",
       "        vertical-align: middle;\n",
       "    }\n",
       "\n",
       "    .dataframe tbody tr th {\n",
       "        vertical-align: top;\n",
       "    }\n",
       "\n",
       "    .dataframe thead th {\n",
       "        text-align: right;\n",
       "    }\n",
       "</style>\n",
       "<table border=\"1\" class=\"dataframe\">\n",
       "  <thead>\n",
       "    <tr style=\"text-align: right;\">\n",
       "      <th></th>\n",
       "      <th>USMER</th>\n",
       "      <th>MEDICAL_UNIT</th>\n",
       "      <th>SEX</th>\n",
       "      <th>PATIENT_TYPE</th>\n",
       "      <th>DATE_DIED</th>\n",
       "      <th>INTUBED</th>\n",
       "      <th>PNEUMONIA</th>\n",
       "      <th>AGE</th>\n",
       "      <th>PREGNANT</th>\n",
       "      <th>DIABETES</th>\n",
       "      <th>...</th>\n",
       "      <th>ASTHMA</th>\n",
       "      <th>INMSUPR</th>\n",
       "      <th>HIPERTENSION</th>\n",
       "      <th>OTHER_DISEASE</th>\n",
       "      <th>CARDIOVASCULAR</th>\n",
       "      <th>OBESITY</th>\n",
       "      <th>RENAL_CHRONIC</th>\n",
       "      <th>TOBACCO</th>\n",
       "      <th>CLASIFFICATION_FINAL</th>\n",
       "      <th>ICU</th>\n",
       "    </tr>\n",
       "  </thead>\n",
       "  <tbody>\n",
       "    <tr>\n",
       "      <th>0</th>\n",
       "      <td>2</td>\n",
       "      <td>1</td>\n",
       "      <td>1</td>\n",
       "      <td>1</td>\n",
       "      <td>03/05/2020</td>\n",
       "      <td>97</td>\n",
       "      <td>1</td>\n",
       "      <td>65</td>\n",
       "      <td>2</td>\n",
       "      <td>2</td>\n",
       "      <td>...</td>\n",
       "      <td>2</td>\n",
       "      <td>2</td>\n",
       "      <td>1</td>\n",
       "      <td>2</td>\n",
       "      <td>2</td>\n",
       "      <td>2</td>\n",
       "      <td>2</td>\n",
       "      <td>2</td>\n",
       "      <td>3</td>\n",
       "      <td>97</td>\n",
       "    </tr>\n",
       "    <tr>\n",
       "      <th>1</th>\n",
       "      <td>2</td>\n",
       "      <td>1</td>\n",
       "      <td>2</td>\n",
       "      <td>1</td>\n",
       "      <td>03/06/2020</td>\n",
       "      <td>97</td>\n",
       "      <td>1</td>\n",
       "      <td>72</td>\n",
       "      <td>97</td>\n",
       "      <td>2</td>\n",
       "      <td>...</td>\n",
       "      <td>2</td>\n",
       "      <td>2</td>\n",
       "      <td>1</td>\n",
       "      <td>2</td>\n",
       "      <td>2</td>\n",
       "      <td>1</td>\n",
       "      <td>1</td>\n",
       "      <td>2</td>\n",
       "      <td>5</td>\n",
       "      <td>97</td>\n",
       "    </tr>\n",
       "    <tr>\n",
       "      <th>2</th>\n",
       "      <td>2</td>\n",
       "      <td>1</td>\n",
       "      <td>2</td>\n",
       "      <td>2</td>\n",
       "      <td>09/06/2020</td>\n",
       "      <td>1</td>\n",
       "      <td>2</td>\n",
       "      <td>55</td>\n",
       "      <td>97</td>\n",
       "      <td>1</td>\n",
       "      <td>...</td>\n",
       "      <td>2</td>\n",
       "      <td>2</td>\n",
       "      <td>2</td>\n",
       "      <td>2</td>\n",
       "      <td>2</td>\n",
       "      <td>2</td>\n",
       "      <td>2</td>\n",
       "      <td>2</td>\n",
       "      <td>3</td>\n",
       "      <td>2</td>\n",
       "    </tr>\n",
       "    <tr>\n",
       "      <th>3</th>\n",
       "      <td>2</td>\n",
       "      <td>1</td>\n",
       "      <td>1</td>\n",
       "      <td>1</td>\n",
       "      <td>12/06/2020</td>\n",
       "      <td>97</td>\n",
       "      <td>2</td>\n",
       "      <td>53</td>\n",
       "      <td>2</td>\n",
       "      <td>2</td>\n",
       "      <td>...</td>\n",
       "      <td>2</td>\n",
       "      <td>2</td>\n",
       "      <td>2</td>\n",
       "      <td>2</td>\n",
       "      <td>2</td>\n",
       "      <td>2</td>\n",
       "      <td>2</td>\n",
       "      <td>2</td>\n",
       "      <td>7</td>\n",
       "      <td>97</td>\n",
       "    </tr>\n",
       "    <tr>\n",
       "      <th>4</th>\n",
       "      <td>2</td>\n",
       "      <td>1</td>\n",
       "      <td>2</td>\n",
       "      <td>1</td>\n",
       "      <td>21/06/2020</td>\n",
       "      <td>97</td>\n",
       "      <td>2</td>\n",
       "      <td>68</td>\n",
       "      <td>97</td>\n",
       "      <td>1</td>\n",
       "      <td>...</td>\n",
       "      <td>2</td>\n",
       "      <td>2</td>\n",
       "      <td>1</td>\n",
       "      <td>2</td>\n",
       "      <td>2</td>\n",
       "      <td>2</td>\n",
       "      <td>2</td>\n",
       "      <td>2</td>\n",
       "      <td>3</td>\n",
       "      <td>97</td>\n",
       "    </tr>\n",
       "  </tbody>\n",
       "</table>\n",
       "<p>5 rows × 21 columns</p>\n",
       "</div>"
      ],
      "text/plain": [
       "   USMER  MEDICAL_UNIT  SEX  PATIENT_TYPE   DATE_DIED  INTUBED  PNEUMONIA  \\\n",
       "0      2             1    1             1  03/05/2020       97          1   \n",
       "1      2             1    2             1  03/06/2020       97          1   \n",
       "2      2             1    2             2  09/06/2020        1          2   \n",
       "3      2             1    1             1  12/06/2020       97          2   \n",
       "4      2             1    2             1  21/06/2020       97          2   \n",
       "\n",
       "   AGE  PREGNANT  DIABETES  ...  ASTHMA  INMSUPR  HIPERTENSION  OTHER_DISEASE  \\\n",
       "0   65         2         2  ...       2        2             1              2   \n",
       "1   72        97         2  ...       2        2             1              2   \n",
       "2   55        97         1  ...       2        2             2              2   \n",
       "3   53         2         2  ...       2        2             2              2   \n",
       "4   68        97         1  ...       2        2             1              2   \n",
       "\n",
       "   CARDIOVASCULAR  OBESITY  RENAL_CHRONIC  TOBACCO  CLASIFFICATION_FINAL  ICU  \n",
       "0               2        2              2        2                     3   97  \n",
       "1               2        1              1        2                     5   97  \n",
       "2               2        2              2        2                     3    2  \n",
       "3               2        2              2        2                     7   97  \n",
       "4               2        2              2        2                     3   97  \n",
       "\n",
       "[5 rows x 21 columns]"
      ]
     },
     "execution_count": 3,
     "metadata": {},
     "output_type": "execute_result"
    }
   ],
   "source": [
    "df.head()"
   ]
  },
  {
   "cell_type": "code",
   "execution_count": 4,
   "metadata": {},
   "outputs": [
    {
     "name": "stdout",
     "output_type": "stream",
     "text": [
      "<class 'pandas.core.frame.DataFrame'>\n",
      "RangeIndex: 1048575 entries, 0 to 1048574\n",
      "Data columns (total 20 columns):\n",
      " #   Column                Non-Null Count    Dtype \n",
      "---  ------                --------------    ----- \n",
      " 0   USMER                 1048575 non-null  int64 \n",
      " 1   SEX                   1048575 non-null  int64 \n",
      " 2   PATIENT_TYPE          1048575 non-null  int64 \n",
      " 3   DATE_DIED             1048575 non-null  object\n",
      " 4   INTUBED               1048575 non-null  int64 \n",
      " 5   PNEUMONIA             1048575 non-null  int64 \n",
      " 6   AGE                   1048575 non-null  int64 \n",
      " 7   PREGNANT              1048575 non-null  int64 \n",
      " 8   DIABETES              1048575 non-null  int64 \n",
      " 9   COPD                  1048575 non-null  int64 \n",
      " 10  ASTHMA                1048575 non-null  int64 \n",
      " 11  INMSUPR               1048575 non-null  int64 \n",
      " 12  HIPERTENSION          1048575 non-null  int64 \n",
      " 13  OTHER_DISEASE         1048575 non-null  int64 \n",
      " 14  CARDIOVASCULAR        1048575 non-null  int64 \n",
      " 15  OBESITY               1048575 non-null  int64 \n",
      " 16  RENAL_CHRONIC         1048575 non-null  int64 \n",
      " 17  TOBACCO               1048575 non-null  int64 \n",
      " 18  CLASIFFICATION_FINAL  1048575 non-null  int64 \n",
      " 19  ICU                   1048575 non-null  int64 \n",
      "dtypes: int64(19), object(1)\n",
      "memory usage: 160.0+ MB\n"
     ]
    }
   ],
   "source": [
    "df.drop(columns=['MEDICAL_UNIT'], inplace=True)\n",
    "df.info()"
   ]
  },
  {
   "cell_type": "code",
   "execution_count": 5,
   "metadata": {},
   "outputs": [
    {
     "name": "stdout",
     "output_type": "stream",
     "text": [
      "<class 'pandas.core.frame.DataFrame'>\n",
      "Int64Index: 80100 entries, 5 to 1048569\n",
      "Data columns (total 20 columns):\n",
      " #   Column                Non-Null Count  Dtype \n",
      "---  ------                --------------  ----- \n",
      " 0   USMER                 80100 non-null  int64 \n",
      " 1   SEX                   80100 non-null  int64 \n",
      " 2   PATIENT_TYPE          80100 non-null  int64 \n",
      " 3   DATE_DIED             80100 non-null  object\n",
      " 4   INTUBED               80100 non-null  int64 \n",
      " 5   PNEUMONIA             80100 non-null  int64 \n",
      " 6   AGE                   80100 non-null  int64 \n",
      " 7   PREGNANT              80100 non-null  int64 \n",
      " 8   DIABETES              80100 non-null  int64 \n",
      " 9   COPD                  80100 non-null  int64 \n",
      " 10  ASTHMA                80100 non-null  int64 \n",
      " 11  INMSUPR               80100 non-null  int64 \n",
      " 12  HIPERTENSION          80100 non-null  int64 \n",
      " 13  OTHER_DISEASE         80100 non-null  int64 \n",
      " 14  CARDIOVASCULAR        80100 non-null  int64 \n",
      " 15  OBESITY               80100 non-null  int64 \n",
      " 16  RENAL_CHRONIC         80100 non-null  int64 \n",
      " 17  TOBACCO               80100 non-null  int64 \n",
      " 18  CLASIFFICATION_FINAL  80100 non-null  int64 \n",
      " 19  ICU                   80100 non-null  int64 \n",
      "dtypes: int64(19), object(1)\n",
      "memory usage: 12.8+ MB\n"
     ]
    }
   ],
   "source": [
    "df = df[(df != 97).all(axis=1)]\n",
    "df = df[(df != 98).all(axis=1)]\n",
    "df.info()"
   ]
  },
  {
   "cell_type": "code",
   "execution_count": 6,
   "metadata": {},
   "outputs": [],
   "source": [
    "CATEGORICAL_COLUMNS = [\n",
    "    'SEX',\n",
    "    'USMER',\n",
    "    'PNEUMONIA',\n",
    "    'DIABETES',\n",
    "    'COPD',\n",
    "    'ASTHMA',\n",
    "    'INMSUPR',\n",
    "    'HIPERTENSION',\n",
    "    'OTHER_DISEASE',\n",
    "    'CARDIOVASCULAR',\n",
    "    'OBESITY',\n",
    "    'RENAL_CHRONIC',\n",
    "    'TOBACCO',\n",
    "    'PREGNANT',\n",
    "    'INTUBED',\n",
    "    'ICU'\n",
    "]\n",
    "\n",
    "for categorical in CATEGORICAL_COLUMNS:\n",
    "    df[categorical] = df[categorical].apply(lambda x: x if x == 1 else 0)\n",
    "\n",
    "df.PATIENT_TYPE = df.PATIENT_TYPE.apply(lambda x: 0 if x == 1 else 1)\n",
    "df.DATE_DIED = df.DATE_DIED.apply(lambda x: 0 if x == '9999-99-99' else 1)\n"
   ]
  },
  {
   "cell_type": "code",
   "execution_count": 7,
   "metadata": {},
   "outputs": [],
   "source": [
    "df['COVID'] = df.DATE_DIED + df.INTUBED + df.ICU\n",
    "df.COVID = df.COVID.apply(lambda x: 1 if x > 0 else 0)"
   ]
  },
  {
   "cell_type": "code",
   "execution_count": 8,
   "metadata": {},
   "outputs": [],
   "source": [
    "df.drop(columns=['CLASIFFICATION_FINAL', 'DATE_DIED', 'INTUBED', 'ICU'], inplace=True)"
   ]
  },
  {
   "cell_type": "code",
   "execution_count": 9,
   "metadata": {},
   "outputs": [
    {
     "name": "stdout",
     "output_type": "stream",
     "text": [
      "<class 'pandas.core.frame.DataFrame'>\n",
      "Int64Index: 80100 entries, 5 to 1048569\n",
      "Data columns (total 17 columns):\n",
      " #   Column          Non-Null Count  Dtype\n",
      "---  ------          --------------  -----\n",
      " 0   USMER           80100 non-null  int64\n",
      " 1   SEX             80100 non-null  int64\n",
      " 2   PATIENT_TYPE    80100 non-null  int64\n",
      " 3   PNEUMONIA       80100 non-null  int64\n",
      " 4   AGE             80100 non-null  int64\n",
      " 5   PREGNANT        80100 non-null  int64\n",
      " 6   DIABETES        80100 non-null  int64\n",
      " 7   COPD            80100 non-null  int64\n",
      " 8   ASTHMA          80100 non-null  int64\n",
      " 9   INMSUPR         80100 non-null  int64\n",
      " 10  HIPERTENSION    80100 non-null  int64\n",
      " 11  OTHER_DISEASE   80100 non-null  int64\n",
      " 12  CARDIOVASCULAR  80100 non-null  int64\n",
      " 13  OBESITY         80100 non-null  int64\n",
      " 14  RENAL_CHRONIC   80100 non-null  int64\n",
      " 15  TOBACCO         80100 non-null  int64\n",
      " 16  COVID           80100 non-null  int64\n",
      "dtypes: int64(17)\n",
      "memory usage: 11.0 MB\n"
     ]
    }
   ],
   "source": [
    "df.info()"
   ]
  },
  {
   "cell_type": "code",
   "execution_count": 10,
   "metadata": {},
   "outputs": [],
   "source": [
    "train, test = train_test_split(\n",
    "    df,\n",
    "    test_size=0.25,\n",
    ")\n",
    "\n"
   ]
  },
  {
   "cell_type": "code",
   "execution_count": 11,
   "metadata": {},
   "outputs": [],
   "source": [
    "y_test = test.COVID.to_numpy()\n",
    "x_test = test.drop(columns=['COVID']).to_numpy()\n",
    "\n",
    "y_train = train.COVID.to_numpy()\n",
    "x_train = train.drop(columns=['COVID']).to_numpy()\n"
   ]
  },
  {
   "cell_type": "code",
   "execution_count": 12,
   "metadata": {},
   "outputs": [],
   "source": [
    "def get_Fmeasure(prediction, labels):\n",
    "  # create a function to generate Fmeasure\n",
    "  true_positive = np.sum((prediction + labels) == 2)\n",
    "  false_positive = np.sum((labels - prediction) == -1)\n",
    "  false_negative = np.sum((prediction - labels) == -1)\n",
    "  positive = np.count_nonzero(labels == 1)\n",
    "  negative = len(labels)-positive\n",
    "\n",
    "  # Calculate F-measure\n",
    "  accuracy = 100*np.sum(prediction == labels)/len(labels)\n",
    "  recall = true_positive / (true_positive + false_negative)\n",
    "  precision = true_positive / (true_positive + false_positive)\n",
    "  eval = 2*(precision * recall) / (precision + recall)\n",
    "  return eval\n"
   ]
  },
  {
   "cell_type": "code",
   "execution_count": 23,
   "metadata": {},
   "outputs": [],
   "source": [
    "logistic_regression = LogisticRegression(max_iter=1000)\n",
    "random_forest = RandomForestClassifier()\n",
    "decision_tree = DecisionTreeClassifier()\n",
    "gradient_boosting = GradientBoostingClassifier(learning_rate=0.2, n_estimators=150, max_depth=4, min_samples_split=2, min_samples_leaf=1)\n",
    "mlp_classifier = MLPClassifier()\n"
   ]
  },
  {
   "cell_type": "markdown",
   "metadata": {},
   "source": [
    "LOGISTIC REGRESSION"
   ]
  },
  {
   "cell_type": "code",
   "execution_count": 29,
   "metadata": {},
   "outputs": [],
   "source": [
    "logistic_regression.fit(x_train, y_train)\n",
    "logistic_score = logistic_regression.score(x_test, y_test)"
   ]
  },
  {
   "cell_type": "markdown",
   "metadata": {},
   "source": [
    "Random Forest Classifier"
   ]
  },
  {
   "cell_type": "code",
   "execution_count": 30,
   "metadata": {},
   "outputs": [],
   "source": [
    "random_forest.fit(x_train, y_train)\n",
    "random_forest_score = random_forest.score(x_test, y_test)"
   ]
  },
  {
   "cell_type": "markdown",
   "metadata": {},
   "source": [
    "Decision Tree Classifier"
   ]
  },
  {
   "cell_type": "code",
   "execution_count": 31,
   "metadata": {},
   "outputs": [],
   "source": [
    "decision_tree.fit(x_train, y_train)\n",
    "decision_tree_score = decision_tree.score(x_test, y_test)"
   ]
  },
  {
   "cell_type": "markdown",
   "metadata": {},
   "source": [
    "GRADIENT BOOST"
   ]
  },
  {
   "cell_type": "code",
   "execution_count": 32,
   "metadata": {},
   "outputs": [],
   "source": [
    "gradient_boosting.fit(x_train, y_train)\n",
    "gradient_boost_score = gradient_boosting.score(x_test, y_test)"
   ]
  },
  {
   "cell_type": "markdown",
   "metadata": {},
   "source": [
    "MLP Classifier"
   ]
  },
  {
   "cell_type": "code",
   "execution_count": 18,
   "metadata": {},
   "outputs": [],
   "source": [
    "mlp_classifier.fit(x_train, y_train)\n",
    "mlp_classifier_score = mlp_classifier.score(x_test, y_test)"
   ]
  },
  {
   "cell_type": "code",
   "execution_count": 25,
   "metadata": {},
   "outputs": [],
   "source": [
    "algorithm = ['Logistic Regression', 'Random Forest', 'Decision Tree', 'Gradient Boosting', 'MLP Classifier']\n",
    "scores = [logistic_score, random_forest_score, decision_tree_score, gradient_boost_score, mlp_classifier_score]\n",
    "\n",
    "algo_score = pd.DataFrame({'Algorithm': algorithm, 'Score': scores})\n",
    "# sort by score\n",
    "algo_score.sort_values(by='Score', ascending=False, inplace=True)"
   ]
  },
  {
   "cell_type": "code",
   "execution_count": 26,
   "metadata": {},
   "outputs": [
    {
     "data": {
      "image/png": "[encoded data removed]",
      "text/plain": [
       "<Figure size 1000x500 with 1 Axes>"
      ]
     },
     "metadata": {},
     "output_type": "display_data"
    }
   ],
   "source": [
    "# Draw a plot of the algorithm scores\n",
    "plt.figure(figsize=(10, 5))\n",
    "plt.title('Algorithm Scores')\n",
    "plt.xlabel('Algorithm')\n",
    "plt.ylabel('Score')\n",
    "# 2 decimal places\n",
    "plt.bar(algo_score['Algorithm'], algo_score['Score'], color='blue')\n",
    "plt.ylim(0.61, 0.70)\n",
    "plt.show()\n"
   ]
  },
  {
   "cell_type": "code",
   "execution_count": 27,
   "metadata": {},
   "outputs": [
    {
     "ename": "NotFittedError",
     "evalue": "This LogisticRegression instance is not fitted yet. Call 'fit' with appropriate arguments before using this estimator.",
     "output_type": "error",
     "traceback": [
      "\u001b[0;31m---------------------------------------------------------------------------\u001b[0m",
      "\u001b[0;31mNotFittedError\u001b[0m                            Traceback (most recent call last)",
      "Cell \u001b[0;32mIn[27], line 2\u001b[0m\n\u001b[1;32m      1\u001b[0m \u001b[39m# Predict the test set\u001b[39;00m\n\u001b[0;32m----> 2\u001b[0m logistic_prediction \u001b[39m=\u001b[39m logistic_regression\u001b[39m.\u001b[39;49mpredict(x_test)\n\u001b[1;32m      3\u001b[0m decision_tree_prediction \u001b[39m=\u001b[39m decision_tree\u001b[39m.\u001b[39mpredict(x_test)\n\u001b[1;32m      4\u001b[0m random_forest_prediction \u001b[39m=\u001b[39m random_forest\u001b[39m.\u001b[39mpredict(x_test)\n",
      "File \u001b[0;32m~/Project/MachineLearning/WorldCupPrediction/env/lib/python3.10/site-packages/sklearn/linear_model/_base.py:447\u001b[0m, in \u001b[0;36mLinearClassifierMixin.predict\u001b[0;34m(self, X)\u001b[0m\n\u001b[1;32m    433\u001b[0m \u001b[39mdef\u001b[39;00m \u001b[39mpredict\u001b[39m(\u001b[39mself\u001b[39m, X):\n\u001b[1;32m    434\u001b[0m     \u001b[39m\"\"\"\u001b[39;00m\n\u001b[1;32m    435\u001b[0m \u001b[39m    Predict class labels for samples in X.\u001b[39;00m\n\u001b[1;32m    436\u001b[0m \n\u001b[0;32m   (...)\u001b[0m\n\u001b[1;32m    445\u001b[0m \u001b[39m        Vector containing the class labels for each sample.\u001b[39;00m\n\u001b[1;32m    446\u001b[0m \u001b[39m    \"\"\"\u001b[39;00m\n\u001b[0;32m--> 447\u001b[0m     scores \u001b[39m=\u001b[39m \u001b[39mself\u001b[39;49m\u001b[39m.\u001b[39;49mdecision_function(X)\n\u001b[1;32m    448\u001b[0m     \u001b[39mif\u001b[39;00m \u001b[39mlen\u001b[39m(scores\u001b[39m.\u001b[39mshape) \u001b[39m==\u001b[39m \u001b[39m1\u001b[39m:\n\u001b[1;32m    449\u001b[0m         indices \u001b[39m=\u001b[39m (scores \u001b[39m>\u001b[39m \u001b[39m0\u001b[39m)\u001b[39m.\u001b[39mastype(\u001b[39mint\u001b[39m)\n",
      "File \u001b[0;32m~/Project/MachineLearning/WorldCupPrediction/env/lib/python3.10/site-packages/sklearn/linear_model/_base.py:427\u001b[0m, in \u001b[0;36mLinearClassifierMixin.decision_function\u001b[0;34m(self, X)\u001b[0m\n\u001b[1;32m    408\u001b[0m \u001b[39mdef\u001b[39;00m \u001b[39mdecision_function\u001b[39m(\u001b[39mself\u001b[39m, X):\n\u001b[1;32m    409\u001b[0m     \u001b[39m\"\"\"\u001b[39;00m\n\u001b[1;32m    410\u001b[0m \u001b[39m    Predict confidence scores for samples.\u001b[39;00m\n\u001b[1;32m    411\u001b[0m \n\u001b[0;32m   (...)\u001b[0m\n\u001b[1;32m    425\u001b[0m \u001b[39m        this class would be predicted.\u001b[39;00m\n\u001b[1;32m    426\u001b[0m \u001b[39m    \"\"\"\u001b[39;00m\n\u001b[0;32m--> 427\u001b[0m     check_is_fitted(\u001b[39mself\u001b[39;49m)\n\u001b[1;32m    429\u001b[0m     X \u001b[39m=\u001b[39m \u001b[39mself\u001b[39m\u001b[39m.\u001b[39m_validate_data(X, accept_sparse\u001b[39m=\u001b[39m\u001b[39m\"\u001b[39m\u001b[39mcsr\u001b[39m\u001b[39m\"\u001b[39m, reset\u001b[39m=\u001b[39m\u001b[39mFalse\u001b[39;00m)\n\u001b[1;32m    430\u001b[0m     scores \u001b[39m=\u001b[39m safe_sparse_dot(X, \u001b[39mself\u001b[39m\u001b[39m.\u001b[39mcoef_\u001b[39m.\u001b[39mT, dense_output\u001b[39m=\u001b[39m\u001b[39mTrue\u001b[39;00m) \u001b[39m+\u001b[39m \u001b[39mself\u001b[39m\u001b[39m.\u001b[39mintercept_\n",
      "File \u001b[0;32m~/Project/MachineLearning/WorldCupPrediction/env/lib/python3.10/site-packages/sklearn/utils/validation.py:1345\u001b[0m, in \u001b[0;36mcheck_is_fitted\u001b[0;34m(estimator, attributes, msg, all_or_any)\u001b[0m\n\u001b[1;32m   1340\u001b[0m     fitted \u001b[39m=\u001b[39m [\n\u001b[1;32m   1341\u001b[0m         v \u001b[39mfor\u001b[39;00m v \u001b[39min\u001b[39;00m \u001b[39mvars\u001b[39m(estimator) \u001b[39mif\u001b[39;00m v\u001b[39m.\u001b[39mendswith(\u001b[39m\"\u001b[39m\u001b[39m_\u001b[39m\u001b[39m\"\u001b[39m) \u001b[39mand\u001b[39;00m \u001b[39mnot\u001b[39;00m v\u001b[39m.\u001b[39mstartswith(\u001b[39m\"\u001b[39m\u001b[39m__\u001b[39m\u001b[39m\"\u001b[39m)\n\u001b[1;32m   1342\u001b[0m     ]\n\u001b[1;32m   1344\u001b[0m \u001b[39mif\u001b[39;00m \u001b[39mnot\u001b[39;00m fitted:\n\u001b[0;32m-> 1345\u001b[0m     \u001b[39mraise\u001b[39;00m NotFittedError(msg \u001b[39m%\u001b[39m {\u001b[39m\"\u001b[39m\u001b[39mname\u001b[39m\u001b[39m\"\u001b[39m: \u001b[39mtype\u001b[39m(estimator)\u001b[39m.\u001b[39m\u001b[39m__name__\u001b[39m})\n",
      "\u001b[0;31mNotFittedError\u001b[0m: This LogisticRegression instance is not fitted yet. Call 'fit' with appropriate arguments before using this estimator."
     ]
    }
   ],
   "source": [
    "# Predict the test set\n",
    "logistic_prediction = logistic_regression.predict(x_test)\n",
    "decision_tree_prediction = decision_tree.predict(x_test)\n",
    "random_forest_prediction = random_forest.predict(x_test)\n",
    "gradient_boosting_prediction = gradient_boosting.predict(x_test)\n",
    "mlp_classifier_prediction = mlp_classifier.predict(x_test)\n",
    "\n",
    "f_measure = {}\n",
    "f_measure['Logistic Regression'] = get_Fmeasure(logistic_prediction, y_test)\n",
    "f_measure['Decision Tree'] = get_Fmeasure(decision_tree_prediction, y_test)\n",
    "f_measure['Random Forest'] = get_Fmeasure(random_forest_prediction, y_test)\n",
    "f_measure['Gradient Boosting'] = get_Fmeasure(gradient_boosting_prediction, y_test)\n",
    "f_measure['MLP Classifier'] = get_Fmeasure(mlp_classifier_prediction, y_test)\n",
    "\n",
    "# sort by score\n",
    "f_measure = sorted(f_measure.items(), key=lambda x: x[1], reverse=True)\n"
   ]
  },
  {
   "cell_type": "code",
   "execution_count": 28,
   "metadata": {},
   "outputs": [
    {
     "data": {
      "image/png": "[encoded data removed]",
      "text/plain": [
       "<Figure size 1000x500 with 1 Axes>"
      ]
     },
     "metadata": {},
     "output_type": "display_data"
    }
   ],
   "source": [
    "plt.figure(figsize=(10, 5))\n",
    "plt.title('F-measure')\n",
    "plt.xlabel('Algorithm')\n",
    "plt.ylabel('F-measure')\n",
    "plt.bar([x[0] for x in f_measure], [x[1] for x in f_measure], color='blue')\n",
    "plt.show()"
   ]
  },
  {
   "cell_type": "code",
   "execution_count": null,
   "metadata": {},
   "outputs": [],
   "source": []
  }
 ],
 "metadata": {
  "kernelspec": {
   "display_name": "Python 3.10.6 ('env': venv)",
   "language": "python",
   "name": "python3"
  },
  "language_info": {
   "codemirror_mode": {
    "name": "ipython",
    "version": 3
   },
   "file_extension": ".py",
   "mimetype": "text/x-python",
   "name": "python",
   "nbconvert_exporter": "python",
   "pygments_lexer": "ipython3",
   "version": "3.10.6"
  },
  "vscode": {
   "interpreter": {
    "hash": "7f0b4af90163892ebef131360ba55367e93d4503c9301e266415b3646cbf33cd"
   }
  }
 },
 "nbformat": 4,
 "nbformat_minor": 1
}
