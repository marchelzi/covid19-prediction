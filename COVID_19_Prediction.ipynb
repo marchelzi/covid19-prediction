{
  "cells": [
    {
      "cell_type": "code",
      "execution_count": 1,
      "metadata": {
        "id": "xHnzw5NZaMvx"
      },
      "outputs": [],
      "source": [
        "import pandas as pd\n",
        "from sklearn.model_selection import train_test_split\n",
        "from sklearn.linear_model import LogisticRegression\n",
        "from sklearn.tree import DecisionTreeClassifier\n",
        "from sklearn.ensemble import RandomForestClassifier, GradientBoostingClassifier\n",
        "import numpy as np\n",
        "from matplotlib import pyplot as plt\n",
        "from matplotlib.ticker import FormatStrFormatter\n",
        "from sklearn.neural_network import MLPClassifier\n",
        "from sklearn.metrics import f1_score\n",
        "from sklearn.experimental import enable_halving_search_cv\n",
        "from sklearn.model_selection import HalvingGridSearchCV\n",
        "from sklearn.metrics import classification_report\n",
        "from xgboost import XGBClassifier\n",
        "from sklearn.utils import resample\n",
        "from sklearn.metrics import roc_curve\n",
        "from imblearn.under_sampling import RandomUnderSampler\n",
        "from sklearn.preprocessing import RobustScaler"
      ]
    },
    {
      "cell_type": "code",
      "execution_count": 2,
      "metadata": {
        "colab": {
          "base_uri": "https://localhost:8080/"
        },
        "id": "VhrHB6jKafKc",
        "outputId": "a59a0f68-828e-438c-e1ba-4614c35bce71"
      },
      "outputs": [],
      "source": [
        "df = pd.read_csv('./CovidData.csv')"
      ]
    },
    {
      "cell_type": "code",
      "execution_count": 3,
      "metadata": {
        "colab": {
          "base_uri": "https://localhost:8080/",
          "height": 236
        },
        "id": "d1rYwCIZaMv5",
        "outputId": "0dbb9b65-ed20-4bde-cc77-25e28975593a"
      },
      "outputs": [
        {
          "data": {
            "text/html": [
              "<div>\n",
              "<style scoped>\n",
              "    .dataframe tbody tr th:only-of-type {\n",
              "        vertical-align: middle;\n",
              "    }\n",
              "\n",
              "    .dataframe tbody tr th {\n",
              "        vertical-align: top;\n",
              "    }\n",
              "\n",
              "    .dataframe thead th {\n",
              "        text-align: right;\n",
              "    }\n",
              "</style>\n",
              "<table border=\"1\" class=\"dataframe\">\n",
              "  <thead>\n",
              "    <tr style=\"text-align: right;\">\n",
              "      <th></th>\n",
              "      <th>USMER</th>\n",
              "      <th>MEDICAL_UNIT</th>\n",
              "      <th>SEX</th>\n",
              "      <th>PATIENT_TYPE</th>\n",
              "      <th>DATE_DIED</th>\n",
              "      <th>INTUBED</th>\n",
              "      <th>PNEUMONIA</th>\n",
              "      <th>AGE</th>\n",
              "      <th>PREGNANT</th>\n",
              "      <th>DIABETES</th>\n",
              "      <th>...</th>\n",
              "      <th>ASTHMA</th>\n",
              "      <th>INMSUPR</th>\n",
              "      <th>HIPERTENSION</th>\n",
              "      <th>OTHER_DISEASE</th>\n",
              "      <th>CARDIOVASCULAR</th>\n",
              "      <th>OBESITY</th>\n",
              "      <th>RENAL_CHRONIC</th>\n",
              "      <th>TOBACCO</th>\n",
              "      <th>CLASIFFICATION_FINAL</th>\n",
              "      <th>ICU</th>\n",
              "    </tr>\n",
              "  </thead>\n",
              "  <tbody>\n",
              "    <tr>\n",
              "      <th>0</th>\n",
              "      <td>2</td>\n",
              "      <td>1</td>\n",
              "      <td>1</td>\n",
              "      <td>1</td>\n",
              "      <td>03/05/2020</td>\n",
              "      <td>97</td>\n",
              "      <td>1</td>\n",
              "      <td>65</td>\n",
              "      <td>2</td>\n",
              "      <td>2</td>\n",
              "      <td>...</td>\n",
              "      <td>2</td>\n",
              "      <td>2</td>\n",
              "      <td>1</td>\n",
              "      <td>2</td>\n",
              "      <td>2</td>\n",
              "      <td>2</td>\n",
              "      <td>2</td>\n",
              "      <td>2</td>\n",
              "      <td>3</td>\n",
              "      <td>97</td>\n",
              "    </tr>\n",
              "    <tr>\n",
              "      <th>1</th>\n",
              "      <td>2</td>\n",
              "      <td>1</td>\n",
              "      <td>2</td>\n",
              "      <td>1</td>\n",
              "      <td>03/06/2020</td>\n",
              "      <td>97</td>\n",
              "      <td>1</td>\n",
              "      <td>72</td>\n",
              "      <td>97</td>\n",
              "      <td>2</td>\n",
              "      <td>...</td>\n",
              "      <td>2</td>\n",
              "      <td>2</td>\n",
              "      <td>1</td>\n",
              "      <td>2</td>\n",
              "      <td>2</td>\n",
              "      <td>1</td>\n",
              "      <td>1</td>\n",
              "      <td>2</td>\n",
              "      <td>5</td>\n",
              "      <td>97</td>\n",
              "    </tr>\n",
              "    <tr>\n",
              "      <th>2</th>\n",
              "      <td>2</td>\n",
              "      <td>1</td>\n",
              "      <td>2</td>\n",
              "      <td>2</td>\n",
              "      <td>09/06/2020</td>\n",
              "      <td>1</td>\n",
              "      <td>2</td>\n",
              "      <td>55</td>\n",
              "      <td>97</td>\n",
              "      <td>1</td>\n",
              "      <td>...</td>\n",
              "      <td>2</td>\n",
              "      <td>2</td>\n",
              "      <td>2</td>\n",
              "      <td>2</td>\n",
              "      <td>2</td>\n",
              "      <td>2</td>\n",
              "      <td>2</td>\n",
              "      <td>2</td>\n",
              "      <td>3</td>\n",
              "      <td>2</td>\n",
              "    </tr>\n",
              "    <tr>\n",
              "      <th>3</th>\n",
              "      <td>2</td>\n",
              "      <td>1</td>\n",
              "      <td>1</td>\n",
              "      <td>1</td>\n",
              "      <td>12/06/2020</td>\n",
              "      <td>97</td>\n",
              "      <td>2</td>\n",
              "      <td>53</td>\n",
              "      <td>2</td>\n",
              "      <td>2</td>\n",
              "      <td>...</td>\n",
              "      <td>2</td>\n",
              "      <td>2</td>\n",
              "      <td>2</td>\n",
              "      <td>2</td>\n",
              "      <td>2</td>\n",
              "      <td>2</td>\n",
              "      <td>2</td>\n",
              "      <td>2</td>\n",
              "      <td>7</td>\n",
              "      <td>97</td>\n",
              "    </tr>\n",
              "    <tr>\n",
              "      <th>4</th>\n",
              "      <td>2</td>\n",
              "      <td>1</td>\n",
              "      <td>2</td>\n",
              "      <td>1</td>\n",
              "      <td>21/06/2020</td>\n",
              "      <td>97</td>\n",
              "      <td>2</td>\n",
              "      <td>68</td>\n",
              "      <td>97</td>\n",
              "      <td>1</td>\n",
              "      <td>...</td>\n",
              "      <td>2</td>\n",
              "      <td>2</td>\n",
              "      <td>1</td>\n",
              "      <td>2</td>\n",
              "      <td>2</td>\n",
              "      <td>2</td>\n",
              "      <td>2</td>\n",
              "      <td>2</td>\n",
              "      <td>3</td>\n",
              "      <td>97</td>\n",
              "    </tr>\n",
              "  </tbody>\n",
              "</table>\n",
              "<p>5 rows × 21 columns</p>\n",
              "</div>"
            ],
            "text/plain": [
              "   USMER  MEDICAL_UNIT  SEX  PATIENT_TYPE   DATE_DIED  INTUBED  PNEUMONIA  \\\n",
              "0      2             1    1             1  03/05/2020       97          1   \n",
              "1      2             1    2             1  03/06/2020       97          1   \n",
              "2      2             1    2             2  09/06/2020        1          2   \n",
              "3      2             1    1             1  12/06/2020       97          2   \n",
              "4      2             1    2             1  21/06/2020       97          2   \n",
              "\n",
              "   AGE  PREGNANT  DIABETES  ...  ASTHMA  INMSUPR  HIPERTENSION  OTHER_DISEASE  \\\n",
              "0   65         2         2  ...       2        2             1              2   \n",
              "1   72        97         2  ...       2        2             1              2   \n",
              "2   55        97         1  ...       2        2             2              2   \n",
              "3   53         2         2  ...       2        2             2              2   \n",
              "4   68        97         1  ...       2        2             1              2   \n",
              "\n",
              "   CARDIOVASCULAR  OBESITY  RENAL_CHRONIC  TOBACCO  CLASIFFICATION_FINAL  ICU  \n",
              "0               2        2              2        2                     3   97  \n",
              "1               2        1              1        2                     5   97  \n",
              "2               2        2              2        2                     3    2  \n",
              "3               2        2              2        2                     7   97  \n",
              "4               2        2              2        2                     3   97  \n",
              "\n",
              "[5 rows x 21 columns]"
            ]
          },
          "execution_count": 3,
          "metadata": {},
          "output_type": "execute_result"
        }
      ],
      "source": [
        "df.head()"
      ]
    },
    {
      "cell_type": "markdown",
      "metadata": {
        "id": "D4sCBHiyb6Q9"
      },
      "source": [
        "Hapus Medical Unit karena tidak dibutuhkan"
      ]
    },
    {
      "cell_type": "code",
      "execution_count": 4,
      "metadata": {
        "colab": {
          "base_uri": "https://localhost:8080/"
        },
        "id": "2inorVK5aMv7",
        "outputId": "403cbb66-9159-460e-9eb3-fc90d834cec6"
      },
      "outputs": [
        {
          "name": "stdout",
          "output_type": "stream",
          "text": [
            "<class 'pandas.core.frame.DataFrame'>\n",
            "RangeIndex: 1048575 entries, 0 to 1048574\n",
            "Data columns (total 20 columns):\n",
            " #   Column                Non-Null Count    Dtype \n",
            "---  ------                --------------    ----- \n",
            " 0   USMER                 1048575 non-null  int64 \n",
            " 1   SEX                   1048575 non-null  int64 \n",
            " 2   PATIENT_TYPE          1048575 non-null  int64 \n",
            " 3   DATE_DIED             1048575 non-null  object\n",
            " 4   INTUBED               1048575 non-null  int64 \n",
            " 5   PNEUMONIA             1048575 non-null  int64 \n",
            " 6   AGE                   1048575 non-null  int64 \n",
            " 7   PREGNANT              1048575 non-null  int64 \n",
            " 8   DIABETES              1048575 non-null  int64 \n",
            " 9   COPD                  1048575 non-null  int64 \n",
            " 10  ASTHMA                1048575 non-null  int64 \n",
            " 11  INMSUPR               1048575 non-null  int64 \n",
            " 12  HIPERTENSION          1048575 non-null  int64 \n",
            " 13  OTHER_DISEASE         1048575 non-null  int64 \n",
            " 14  CARDIOVASCULAR        1048575 non-null  int64 \n",
            " 15  OBESITY               1048575 non-null  int64 \n",
            " 16  RENAL_CHRONIC         1048575 non-null  int64 \n",
            " 17  TOBACCO               1048575 non-null  int64 \n",
            " 18  CLASIFFICATION_FINAL  1048575 non-null  int64 \n",
            " 19  ICU                   1048575 non-null  int64 \n",
            "dtypes: int64(19), object(1)\n",
            "memory usage: 160.0+ MB\n"
          ]
        }
      ],
      "source": [
        "df.drop(columns=['MEDICAL_UNIT'], inplace=True)\n",
        "df.info()"
      ]
    },
    {
      "cell_type": "code",
      "execution_count": 5,
      "metadata": {},
      "outputs": [
        {
          "data": {
            "text/plain": [
              "<AxesSubplot: >"
            ]
          },
          "execution_count": 5,
          "metadata": {},
          "output_type": "execute_result"
        },
        {
          "data": {
            "image/png": "[encoded data removed]",
            "text/plain": [
              "<Figure size 640x480 with 1 Axes>"
            ]
          },
          "metadata": {},
          "output_type": "display_data"
        }
      ],
      "source": [
        "df.SEX.value_counts().plot(kind='bar')"
      ]
    },
    {
      "cell_type": "code",
      "execution_count": 6,
      "metadata": {},
      "outputs": [
        {
          "data": {
            "text/plain": [
              "<AxesSubplot: >"
            ]
          },
          "execution_count": 6,
          "metadata": {},
          "output_type": "execute_result"
        },
        {
          "data": {
            "image/png": "[encoded data removed]",
            "text/plain": [
              "<Figure size 640x480 with 1 Axes>"
            ]
          },
          "metadata": {},
          "output_type": "display_data"
        }
      ],
      "source": [
        "df.PREGNANT.value_counts().plot(kind='bar')"
      ]
    },
    {
      "cell_type": "code",
      "execution_count": 7,
      "metadata": {},
      "outputs": [
        {
          "name": "stdout",
          "output_type": "stream",
          "text": [
            "{'Male': 523511, 'Pregnant': 523511}\n"
          ]
        },
        {
          "data": {
            "text/plain": [
              "True"
            ]
          },
          "execution_count": 7,
          "metadata": {},
          "output_type": "execute_result"
        }
      ],
      "source": [
        "print(\n",
        "    {\n",
        "        \"Male\": df.SEX.value_counts()[2],\n",
        "        \"Pregnant\": df.PREGNANT.value_counts()[97]\n",
        "    }\n",
        ")\n",
        "df.SEX.value_counts()[2] == df.PREGNANT.value_counts()[97]\n"
      ]
    },
    {
      "attachments": {},
      "cell_type": "markdown",
      "metadata": {
        "id": "Q_G0QnNBcOEo"
      },
      "source": [
        "97 dan 99 adalah missing values, maka data harus di normalisasi atau dibersihkan dengan cara menghapus baris yang mengadung value 97 dan 99"
      ]
    },
    {
      "cell_type": "code",
      "execution_count": 8,
      "metadata": {},
      "outputs": [],
      "source": [
        "CATEGORICAL_COLUMNS = [\n",
        "    'SEX',\n",
        "    'USMER',\n",
        "    'PNEUMONIA',\n",
        "    'DIABETES',\n",
        "    'COPD',\n",
        "    'ASTHMA',\n",
        "    'INMSUPR',\n",
        "    'HIPERTENSION',\n",
        "    'OTHER_DISEASE',\n",
        "    'CARDIOVASCULAR',\n",
        "    'OBESITY',\n",
        "    'RENAL_CHRONIC',\n",
        "    'TOBACCO',\n",
        "    'PREGNANT',\n",
        "]\n"
      ]
    },
    {
      "cell_type": "code",
      "execution_count": 9,
      "metadata": {},
      "outputs": [],
      "source": [
        "df.PREGNANT = df.PREGNANT.replace(97,2)\n",
        "\n",
        "df = df[(df.PREGNANT == 1) | (df.PREGNANT == 2)]"
      ]
    },
    {
      "cell_type": "code",
      "execution_count": 10,
      "metadata": {},
      "outputs": [],
      "source": [
        "for col in CATEGORICAL_COLUMNS:\n",
        "    df = df[(df[col] == 1) | (df[col] == 2)]\n"
      ]
    },
    {
      "cell_type": "code",
      "execution_count": 11,
      "metadata": {},
      "outputs": [
        {
          "data": {
            "text/html": [
              "<div>\n",
              "<style scoped>\n",
              "    .dataframe tbody tr th:only-of-type {\n",
              "        vertical-align: middle;\n",
              "    }\n",
              "\n",
              "    .dataframe tbody tr th {\n",
              "        vertical-align: top;\n",
              "    }\n",
              "\n",
              "    .dataframe thead th {\n",
              "        text-align: right;\n",
              "    }\n",
              "</style>\n",
              "<table border=\"1\" class=\"dataframe\">\n",
              "  <thead>\n",
              "    <tr style=\"text-align: right;\">\n",
              "      <th></th>\n",
              "      <th>USMER</th>\n",
              "      <th>SEX</th>\n",
              "      <th>PATIENT_TYPE</th>\n",
              "      <th>DATE_DIED</th>\n",
              "      <th>INTUBED</th>\n",
              "      <th>PNEUMONIA</th>\n",
              "      <th>AGE</th>\n",
              "      <th>PREGNANT</th>\n",
              "      <th>DIABETES</th>\n",
              "      <th>COPD</th>\n",
              "      <th>ASTHMA</th>\n",
              "      <th>INMSUPR</th>\n",
              "      <th>HIPERTENSION</th>\n",
              "      <th>OTHER_DISEASE</th>\n",
              "      <th>CARDIOVASCULAR</th>\n",
              "      <th>OBESITY</th>\n",
              "      <th>RENAL_CHRONIC</th>\n",
              "      <th>TOBACCO</th>\n",
              "      <th>CLASIFFICATION_FINAL</th>\n",
              "      <th>ICU</th>\n",
              "    </tr>\n",
              "  </thead>\n",
              "  <tbody>\n",
              "    <tr>\n",
              "      <th>0</th>\n",
              "      <td>2</td>\n",
              "      <td>1</td>\n",
              "      <td>1</td>\n",
              "      <td>03/05/2020</td>\n",
              "      <td>97</td>\n",
              "      <td>1</td>\n",
              "      <td>65</td>\n",
              "      <td>2</td>\n",
              "      <td>2</td>\n",
              "      <td>2</td>\n",
              "      <td>2</td>\n",
              "      <td>2</td>\n",
              "      <td>1</td>\n",
              "      <td>2</td>\n",
              "      <td>2</td>\n",
              "      <td>2</td>\n",
              "      <td>2</td>\n",
              "      <td>2</td>\n",
              "      <td>3</td>\n",
              "      <td>97</td>\n",
              "    </tr>\n",
              "    <tr>\n",
              "      <th>1</th>\n",
              "      <td>2</td>\n",
              "      <td>2</td>\n",
              "      <td>1</td>\n",
              "      <td>03/06/2020</td>\n",
              "      <td>97</td>\n",
              "      <td>1</td>\n",
              "      <td>72</td>\n",
              "      <td>2</td>\n",
              "      <td>2</td>\n",
              "      <td>2</td>\n",
              "      <td>2</td>\n",
              "      <td>2</td>\n",
              "      <td>1</td>\n",
              "      <td>2</td>\n",
              "      <td>2</td>\n",
              "      <td>1</td>\n",
              "      <td>1</td>\n",
              "      <td>2</td>\n",
              "      <td>5</td>\n",
              "      <td>97</td>\n",
              "    </tr>\n",
              "    <tr>\n",
              "      <th>2</th>\n",
              "      <td>2</td>\n",
              "      <td>2</td>\n",
              "      <td>2</td>\n",
              "      <td>09/06/2020</td>\n",
              "      <td>1</td>\n",
              "      <td>2</td>\n",
              "      <td>55</td>\n",
              "      <td>2</td>\n",
              "      <td>1</td>\n",
              "      <td>2</td>\n",
              "      <td>2</td>\n",
              "      <td>2</td>\n",
              "      <td>2</td>\n",
              "      <td>2</td>\n",
              "      <td>2</td>\n",
              "      <td>2</td>\n",
              "      <td>2</td>\n",
              "      <td>2</td>\n",
              "      <td>3</td>\n",
              "      <td>2</td>\n",
              "    </tr>\n",
              "    <tr>\n",
              "      <th>3</th>\n",
              "      <td>2</td>\n",
              "      <td>1</td>\n",
              "      <td>1</td>\n",
              "      <td>12/06/2020</td>\n",
              "      <td>97</td>\n",
              "      <td>2</td>\n",
              "      <td>53</td>\n",
              "      <td>2</td>\n",
              "      <td>2</td>\n",
              "      <td>2</td>\n",
              "      <td>2</td>\n",
              "      <td>2</td>\n",
              "      <td>2</td>\n",
              "      <td>2</td>\n",
              "      <td>2</td>\n",
              "      <td>2</td>\n",
              "      <td>2</td>\n",
              "      <td>2</td>\n",
              "      <td>7</td>\n",
              "      <td>97</td>\n",
              "    </tr>\n",
              "    <tr>\n",
              "      <th>4</th>\n",
              "      <td>2</td>\n",
              "      <td>2</td>\n",
              "      <td>1</td>\n",
              "      <td>21/06/2020</td>\n",
              "      <td>97</td>\n",
              "      <td>2</td>\n",
              "      <td>68</td>\n",
              "      <td>2</td>\n",
              "      <td>1</td>\n",
              "      <td>2</td>\n",
              "      <td>2</td>\n",
              "      <td>2</td>\n",
              "      <td>1</td>\n",
              "      <td>2</td>\n",
              "      <td>2</td>\n",
              "      <td>2</td>\n",
              "      <td>2</td>\n",
              "      <td>2</td>\n",
              "      <td>3</td>\n",
              "      <td>97</td>\n",
              "    </tr>\n",
              "  </tbody>\n",
              "</table>\n",
              "</div>"
            ],
            "text/plain": [
              "   USMER  SEX  PATIENT_TYPE   DATE_DIED  INTUBED  PNEUMONIA  AGE  PREGNANT  \\\n",
              "0      2    1             1  03/05/2020       97          1   65         2   \n",
              "1      2    2             1  03/06/2020       97          1   72         2   \n",
              "2      2    2             2  09/06/2020        1          2   55         2   \n",
              "3      2    1             1  12/06/2020       97          2   53         2   \n",
              "4      2    2             1  21/06/2020       97          2   68         2   \n",
              "\n",
              "   DIABETES  COPD  ASTHMA  INMSUPR  HIPERTENSION  OTHER_DISEASE  \\\n",
              "0         2     2       2        2             1              2   \n",
              "1         2     2       2        2             1              2   \n",
              "2         1     2       2        2             2              2   \n",
              "3         2     2       2        2             2              2   \n",
              "4         1     2       2        2             1              2   \n",
              "\n",
              "   CARDIOVASCULAR  OBESITY  RENAL_CHRONIC  TOBACCO  CLASIFFICATION_FINAL  ICU  \n",
              "0               2        2              2        2                     3   97  \n",
              "1               2        1              1        2                     5   97  \n",
              "2               2        2              2        2                     3    2  \n",
              "3               2        2              2        2                     7   97  \n",
              "4               2        2              2        2                     3   97  "
            ]
          },
          "execution_count": 11,
          "metadata": {},
          "output_type": "execute_result"
        }
      ],
      "source": [
        "df.head()"
      ]
    },
    {
      "cell_type": "code",
      "execution_count": 12,
      "metadata": {
        "colab": {
          "base_uri": "https://localhost:8080/",
          "height": 206
        },
        "id": "MzdlOvkeDzV1",
        "outputId": "0afeec3a-8999-464b-a8b9-fcf2a5848b7e"
      },
      "outputs": [
        {
          "name": "stdout",
          "output_type": "stream",
          "text": [
            "<class 'pandas.core.frame.DataFrame'>\n",
            "Int64Index: 1021977 entries, 0 to 1048574\n",
            "Data columns (total 20 columns):\n",
            " #   Column                Non-Null Count    Dtype \n",
            "---  ------                --------------    ----- \n",
            " 0   USMER                 1021977 non-null  int64 \n",
            " 1   SEX                   1021977 non-null  int64 \n",
            " 2   PATIENT_TYPE          1021977 non-null  int64 \n",
            " 3   DATE_DIED             1021977 non-null  object\n",
            " 4   INTUBED               1021977 non-null  int64 \n",
            " 5   PNEUMONIA             1021977 non-null  int64 \n",
            " 6   AGE                   1021977 non-null  int64 \n",
            " 7   PREGNANT              1021977 non-null  int64 \n",
            " 8   DIABETES              1021977 non-null  int64 \n",
            " 9   COPD                  1021977 non-null  int64 \n",
            " 10  ASTHMA                1021977 non-null  int64 \n",
            " 11  INMSUPR               1021977 non-null  int64 \n",
            " 12  HIPERTENSION          1021977 non-null  int64 \n",
            " 13  OTHER_DISEASE         1021977 non-null  int64 \n",
            " 14  CARDIOVASCULAR        1021977 non-null  int64 \n",
            " 15  OBESITY               1021977 non-null  int64 \n",
            " 16  RENAL_CHRONIC         1021977 non-null  int64 \n",
            " 17  TOBACCO               1021977 non-null  int64 \n",
            " 18  CLASIFFICATION_FINAL  1021977 non-null  int64 \n",
            " 19  ICU                   1021977 non-null  int64 \n",
            "dtypes: int64(19), object(1)\n",
            "memory usage: 163.7+ MB\n"
          ]
        }
      ],
      "source": [
        "df.info()"
      ]
    },
    {
      "cell_type": "code",
      "execution_count": 13,
      "metadata": {
        "colab": {
          "base_uri": "https://localhost:8080/"
        },
        "id": "NO5-Xl3tE7ot",
        "outputId": "4d9ca373-6137-4c89-f4c2-9a7d71c78d50"
      },
      "outputs": [
        {
          "data": {
            "text/plain": [
              "USMER                   0\n",
              "SEX                     0\n",
              "PATIENT_TYPE            0\n",
              "DATE_DIED               0\n",
              "INTUBED                 0\n",
              "PNEUMONIA               0\n",
              "AGE                     0\n",
              "PREGNANT                0\n",
              "DIABETES                0\n",
              "COPD                    0\n",
              "ASTHMA                  0\n",
              "INMSUPR                 0\n",
              "HIPERTENSION            0\n",
              "OTHER_DISEASE           0\n",
              "CARDIOVASCULAR          0\n",
              "OBESITY                 0\n",
              "RENAL_CHRONIC           0\n",
              "TOBACCO                 0\n",
              "CLASIFFICATION_FINAL    0\n",
              "ICU                     0\n",
              "dtype: int64"
            ]
          },
          "execution_count": 13,
          "metadata": {},
          "output_type": "execute_result"
        }
      ],
      "source": [
        "df.isnull().sum()"
      ]
    },
    {
      "cell_type": "markdown",
      "metadata": {
        "id": "3-pjjbfEcaeK"
      },
      "source": [
        "Melakukan encode data dengan mengubah ke 1 dan 0, tidak = 0 dan ya = 1"
      ]
    },
    {
      "cell_type": "code",
      "execution_count": 14,
      "metadata": {},
      "outputs": [],
      "source": [
        "def process_categorical_columns(x):\n",
        "    if x in [np.nan]:\n",
        "        return np.nan\n",
        "    if x == 1:\n",
        "        return x\n",
        "    else:\n",
        "        return 0"
      ]
    },
    {
      "cell_type": "code",
      "execution_count": 15,
      "metadata": {
        "id": "KOB05_3JaMv9"
      },
      "outputs": [],
      "source": [
        "for categorical in CATEGORICAL_COLUMNS:\n",
        "    df[categorical] = df[categorical].apply(process_categorical_columns)\n",
        "\n",
        "df.PATIENT_TYPE = df.PATIENT_TYPE.apply(lambda x: 0 if x == 1 else 1)\n",
        "df.DATE_DIED = df.DATE_DIED.apply(lambda x: 0 if x == '9999-99-99' else 1)\n"
      ]
    },
    {
      "cell_type": "markdown",
      "metadata": {
        "id": "-zU9Jpl5cnB5"
      },
      "source": [
        "Karena kolom date_died, intubed, dan icu merupakan kolom decision yang menandakan bahwa pasien terkena covid 19, maka dibuat satu kolom decision dengan mengambil value dari kolom date_died, intubed, dan icu supaya tidak ada duplikasi kolom decision"
      ]
    },
    {
      "cell_type": "code",
      "execution_count": 16,
      "metadata": {
        "id": "cauiexPkaMwA"
      },
      "outputs": [],
      "source": [
        "df['HIGH_RISK'] = df.DATE_DIED "
      ]
    },
    {
      "cell_type": "code",
      "execution_count": 17,
      "metadata": {
        "id": "lOBJ-k1caMwB"
      },
      "outputs": [],
      "source": [
        "df.drop(columns=['CLASIFFICATION_FINAL', 'DATE_DIED', 'INTUBED', 'ICU'], inplace=True)"
      ]
    },
    {
      "cell_type": "code",
      "execution_count": 18,
      "metadata": {
        "colab": {
          "base_uri": "https://localhost:8080/"
        },
        "id": "EOjeqpLlaMwC",
        "outputId": "8f925e48-82f7-4366-a40f-71866464d865"
      },
      "outputs": [
        {
          "name": "stdout",
          "output_type": "stream",
          "text": [
            "<class 'pandas.core.frame.DataFrame'>\n",
            "Int64Index: 1021977 entries, 0 to 1048574\n",
            "Data columns (total 17 columns):\n",
            " #   Column          Non-Null Count    Dtype\n",
            "---  ------          --------------    -----\n",
            " 0   USMER           1021977 non-null  int64\n",
            " 1   SEX             1021977 non-null  int64\n",
            " 2   PATIENT_TYPE    1021977 non-null  int64\n",
            " 3   PNEUMONIA       1021977 non-null  int64\n",
            " 4   AGE             1021977 non-null  int64\n",
            " 5   PREGNANT        1021977 non-null  int64\n",
            " 6   DIABETES        1021977 non-null  int64\n",
            " 7   COPD            1021977 non-null  int64\n",
            " 8   ASTHMA          1021977 non-null  int64\n",
            " 9   INMSUPR         1021977 non-null  int64\n",
            " 10  HIPERTENSION    1021977 non-null  int64\n",
            " 11  OTHER_DISEASE   1021977 non-null  int64\n",
            " 12  CARDIOVASCULAR  1021977 non-null  int64\n",
            " 13  OBESITY         1021977 non-null  int64\n",
            " 14  RENAL_CHRONIC   1021977 non-null  int64\n",
            " 15  TOBACCO         1021977 non-null  int64\n",
            " 16  HIGH_RISK       1021977 non-null  int64\n",
            "dtypes: int64(17)\n",
            "memory usage: 140.3 MB\n"
          ]
        }
      ],
      "source": [
        "df.info()"
      ]
    },
    {
      "cell_type": "code",
      "execution_count": 19,
      "metadata": {
        "colab": {
          "base_uri": "https://localhost:8080/",
          "height": 206
        },
        "id": "GvGe3lyl1izJ",
        "outputId": "5e5bc06a-a8ff-47da-d806-1a5d9bf2d082"
      },
      "outputs": [
        {
          "data": {
            "text/html": [
              "<div>\n",
              "<style scoped>\n",
              "    .dataframe tbody tr th:only-of-type {\n",
              "        vertical-align: middle;\n",
              "    }\n",
              "\n",
              "    .dataframe tbody tr th {\n",
              "        vertical-align: top;\n",
              "    }\n",
              "\n",
              "    .dataframe thead th {\n",
              "        text-align: right;\n",
              "    }\n",
              "</style>\n",
              "<table border=\"1\" class=\"dataframe\">\n",
              "  <thead>\n",
              "    <tr style=\"text-align: right;\">\n",
              "      <th></th>\n",
              "      <th>USMER</th>\n",
              "      <th>SEX</th>\n",
              "      <th>PATIENT_TYPE</th>\n",
              "      <th>PNEUMONIA</th>\n",
              "      <th>AGE</th>\n",
              "      <th>PREGNANT</th>\n",
              "      <th>DIABETES</th>\n",
              "      <th>COPD</th>\n",
              "      <th>ASTHMA</th>\n",
              "      <th>INMSUPR</th>\n",
              "      <th>HIPERTENSION</th>\n",
              "      <th>OTHER_DISEASE</th>\n",
              "      <th>CARDIOVASCULAR</th>\n",
              "      <th>OBESITY</th>\n",
              "      <th>RENAL_CHRONIC</th>\n",
              "      <th>TOBACCO</th>\n",
              "      <th>HIGH_RISK</th>\n",
              "    </tr>\n",
              "  </thead>\n",
              "  <tbody>\n",
              "    <tr>\n",
              "      <th>0</th>\n",
              "      <td>0</td>\n",
              "      <td>1</td>\n",
              "      <td>0</td>\n",
              "      <td>1</td>\n",
              "      <td>65</td>\n",
              "      <td>0</td>\n",
              "      <td>0</td>\n",
              "      <td>0</td>\n",
              "      <td>0</td>\n",
              "      <td>0</td>\n",
              "      <td>1</td>\n",
              "      <td>0</td>\n",
              "      <td>0</td>\n",
              "      <td>0</td>\n",
              "      <td>0</td>\n",
              "      <td>0</td>\n",
              "      <td>1</td>\n",
              "    </tr>\n",
              "    <tr>\n",
              "      <th>1</th>\n",
              "      <td>0</td>\n",
              "      <td>0</td>\n",
              "      <td>0</td>\n",
              "      <td>1</td>\n",
              "      <td>72</td>\n",
              "      <td>0</td>\n",
              "      <td>0</td>\n",
              "      <td>0</td>\n",
              "      <td>0</td>\n",
              "      <td>0</td>\n",
              "      <td>1</td>\n",
              "      <td>0</td>\n",
              "      <td>0</td>\n",
              "      <td>1</td>\n",
              "      <td>1</td>\n",
              "      <td>0</td>\n",
              "      <td>1</td>\n",
              "    </tr>\n",
              "    <tr>\n",
              "      <th>2</th>\n",
              "      <td>0</td>\n",
              "      <td>0</td>\n",
              "      <td>1</td>\n",
              "      <td>0</td>\n",
              "      <td>55</td>\n",
              "      <td>0</td>\n",
              "      <td>1</td>\n",
              "      <td>0</td>\n",
              "      <td>0</td>\n",
              "      <td>0</td>\n",
              "      <td>0</td>\n",
              "      <td>0</td>\n",
              "      <td>0</td>\n",
              "      <td>0</td>\n",
              "      <td>0</td>\n",
              "      <td>0</td>\n",
              "      <td>1</td>\n",
              "    </tr>\n",
              "    <tr>\n",
              "      <th>3</th>\n",
              "      <td>0</td>\n",
              "      <td>1</td>\n",
              "      <td>0</td>\n",
              "      <td>0</td>\n",
              "      <td>53</td>\n",
              "      <td>0</td>\n",
              "      <td>0</td>\n",
              "      <td>0</td>\n",
              "      <td>0</td>\n",
              "      <td>0</td>\n",
              "      <td>0</td>\n",
              "      <td>0</td>\n",
              "      <td>0</td>\n",
              "      <td>0</td>\n",
              "      <td>0</td>\n",
              "      <td>0</td>\n",
              "      <td>1</td>\n",
              "    </tr>\n",
              "    <tr>\n",
              "      <th>4</th>\n",
              "      <td>0</td>\n",
              "      <td>0</td>\n",
              "      <td>0</td>\n",
              "      <td>0</td>\n",
              "      <td>68</td>\n",
              "      <td>0</td>\n",
              "      <td>1</td>\n",
              "      <td>0</td>\n",
              "      <td>0</td>\n",
              "      <td>0</td>\n",
              "      <td>1</td>\n",
              "      <td>0</td>\n",
              "      <td>0</td>\n",
              "      <td>0</td>\n",
              "      <td>0</td>\n",
              "      <td>0</td>\n",
              "      <td>1</td>\n",
              "    </tr>\n",
              "  </tbody>\n",
              "</table>\n",
              "</div>"
            ],
            "text/plain": [
              "   USMER  SEX  PATIENT_TYPE  PNEUMONIA  AGE  PREGNANT  DIABETES  COPD  ASTHMA  \\\n",
              "0      0    1             0          1   65         0         0     0       0   \n",
              "1      0    0             0          1   72         0         0     0       0   \n",
              "2      0    0             1          0   55         0         1     0       0   \n",
              "3      0    1             0          0   53         0         0     0       0   \n",
              "4      0    0             0          0   68         0         1     0       0   \n",
              "\n",
              "   INMSUPR  HIPERTENSION  OTHER_DISEASE  CARDIOVASCULAR  OBESITY  \\\n",
              "0        0             1              0               0        0   \n",
              "1        0             1              0               0        1   \n",
              "2        0             0              0               0        0   \n",
              "3        0             0              0               0        0   \n",
              "4        0             1              0               0        0   \n",
              "\n",
              "   RENAL_CHRONIC  TOBACCO  HIGH_RISK  \n",
              "0              0        0          1  \n",
              "1              1        0          1  \n",
              "2              0        0          1  \n",
              "3              0        0          1  \n",
              "4              0        0          1  "
            ]
          },
          "execution_count": 19,
          "metadata": {},
          "output_type": "execute_result"
        }
      ],
      "source": [
        "df.head()"
      ]
    },
    {
      "cell_type": "code",
      "execution_count": 20,
      "metadata": {},
      "outputs": [
        {
          "data": {
            "text/plain": [
              "0    947320\n",
              "1     74657\n",
              "Name: HIGH_RISK, dtype: int64"
            ]
          },
          "execution_count": 20,
          "metadata": {},
          "output_type": "execute_result"
        }
      ],
      "source": [
        "df['HIGH_RISK'].value_counts()"
      ]
    },
    {
      "cell_type": "code",
      "execution_count": 21,
      "metadata": {},
      "outputs": [
        {
          "data": {
            "text/plain": [
              "<AxesSubplot: >"
            ]
          },
          "execution_count": 21,
          "metadata": {},
          "output_type": "execute_result"
        },
        {
          "data": {
            "image/png": "[encoded data removed]",
            "text/plain": [
              "<Figure size 640x480 with 1 Axes>"
            ]
          },
          "metadata": {},
          "output_type": "display_data"
        }
      ],
      "source": [
        "df['HIGH_RISK'].value_counts().plot(kind='bar')"
      ]
    },
    {
      "cell_type": "code",
      "execution_count": 22,
      "metadata": {},
      "outputs": [],
      "source": [
        "y = df.HIGH_RISK\n",
        "x = df.drop(columns=['HIGH_RISK'])\n"
      ]
    },
    {
      "cell_type": "code",
      "execution_count": 23,
      "metadata": {},
      "outputs": [],
      "source": [
        "rus = RandomUnderSampler()\n",
        "x_resampled,y_resampled = rus.fit_resample(x,y)"
      ]
    },
    {
      "cell_type": "code",
      "execution_count": 24,
      "metadata": {},
      "outputs": [
        {
          "data": {
            "text/plain": [
              "<AxesSubplot: >"
            ]
          },
          "execution_count": 24,
          "metadata": {},
          "output_type": "execute_result"
        },
        {
          "data": {
            "image/png": "[encoded data removed]",
            "text/plain": [
              "<Figure size 640x480 with 1 Axes>"
            ]
          },
          "metadata": {},
          "output_type": "display_data"
        }
      ],
      "source": [
        "y_resampled.value_counts().plot(kind='bar')"
      ]
    },
    {
      "cell_type": "code",
      "execution_count": 25,
      "metadata": {
        "id": "1es2Rs9VaMwE"
      },
      "outputs": [],
      "source": [
        "train_x, test_x, train_y, test_y = train_test_split(\n",
        "    x_resampled.values,\n",
        "    y_resampled.values,\n",
        "    test_size=0.25,\n",
        ")\n",
        "\n"
      ]
    },
    {
      "cell_type": "code",
      "execution_count": 26,
      "metadata": {
        "id": "ZmcyKKxAaMwJ"
      },
      "outputs": [],
      "source": [
        "random_forest = RandomForestClassifier()"
      ]
    },
    {
      "cell_type": "code",
      "execution_count": 27,
      "metadata": {
        "id": "EIdUIYsSQd8s"
      },
      "outputs": [],
      "source": [
        "model_scores = {}"
      ]
    },
    {
      "cell_type": "markdown",
      "metadata": {
        "id": "-6_YyKs5aMwO"
      },
      "source": [
        "Random Forest Classifier"
      ]
    },
    {
      "cell_type": "code",
      "execution_count": 28,
      "metadata": {
        "colab": {
          "base_uri": "https://localhost:8080/"
        },
        "id": "Iub1yR175XB9",
        "outputId": "8a3af01e-729e-4931-b37f-e6d870a5c246"
      },
      "outputs": [
        {
          "data": {
            "text/plain": [
              "{}"
            ]
          },
          "execution_count": 28,
          "metadata": {},
          "output_type": "execute_result"
        }
      ],
      "source": [
        "model_scores"
      ]
    },
    {
      "cell_type": "code",
      "execution_count": 29,
      "metadata": {
        "id": "GXudRJhvaMwO"
      },
      "outputs": [],
      "source": [
        "random_forest.fit(train_x, train_y)\n",
        "model_scores['Random Forest'] = [\n",
        "    random_forest.score(train_x, train_y),\n",
        "    random_forest.score(test_x, test_y)\n",
        "]\n"
      ]
    },
    {
      "cell_type": "code",
      "execution_count": 30,
      "metadata": {
        "colab": {
          "base_uri": "https://localhost:8080/",
          "height": 350
        },
        "id": "hCFI7xF5aMwT",
        "outputId": "239235ea-d714-4b32-de83-27dca530475b"
      },
      "outputs": [
        {
          "data": {
            "image/png": "[encoded data removed]",
            "text/plain": [
              "<Figure size 640x480 with 1 Axes>"
            ]
          },
          "metadata": {},
          "output_type": "display_data"
        }
      ],
      "source": [
        "# Draw a plot of the algorithm scores\n",
        "score_by_training = [model_scores[x][0] for x in model_scores]\n",
        "score_by_training.sort(reverse=True)\n",
        "plt.title('Algorithm Scores(Training)')\n",
        "plt.xlabel('Algorithm')\n",
        "plt.ylabel('Score')\n",
        "# 2 decimal places\n",
        "plt.bar([x for x in model_scores], score_by_training, color='blue')\n",
        "plt.ylim(0.90, 0.95)\n",
        "plt.show()\n"
      ]
    },
    {
      "cell_type": "code",
      "execution_count": 31,
      "metadata": {
        "colab": {
          "base_uri": "https://localhost:8080/",
          "height": 350
        },
        "id": "eSM3NgqeSRp6",
        "outputId": "a6ead5a9-ae25-497b-a4f4-2dfedc25eb8a"
      },
      "outputs": [
        {
          "data": {
            "image/png": "[encoded data removed]",
            "text/plain": [
              "<Figure size 640x480 with 1 Axes>"
            ]
          },
          "metadata": {},
          "output_type": "display_data"
        }
      ],
      "source": [
        "score_by_test = [model_scores[x][1] for x in model_scores]\n",
        "score_by_test.sort(reverse=True)\n",
        "plt.title('Algorithm Scores(Test)')\n",
        "plt.xlabel('Algorithm')\n",
        "plt.ylabel('Score')\n",
        "# 2 decimal places\n",
        "plt.bar([x for x in model_scores], score_by_test, color='blue')\n",
        "plt.ylim(0.88, 0.9)\n",
        "plt.show()\n"
      ]
    },
    {
      "cell_type": "code",
      "execution_count": 32,
      "metadata": {},
      "outputs": [
        {
          "data": {
            "image/png": "[encoded data removed]",
            "text/plain": [
              "<Figure size 640x480 with 1 Axes>"
            ]
          },
          "metadata": {},
          "output_type": "display_data"
        }
      ],
      "source": [
        "random_forest_pred_proba = random_forest.predict_proba(test_x)\n",
        "fpr, tpr, thresholds = roc_curve(test_y, random_forest_pred_proba[:,1])\n",
        "plt.plot([0,1],[0,1],\"k--\")\n",
        "plt.plot(fpr, tpr, label = \"Random Forest Classifier\")\n",
        "plt.xlabel(\"False Positive Rate\")\n",
        "plt.ylabel(\"True Positive Rate\")\n",
        "plt.title(\"Random Forest ROC Curve\")\n",
        "plt.show()"
      ]
    },
    {
      "cell_type": "code",
      "execution_count": 33,
      "metadata": {
        "id": "fAbzqVYRaMwU"
      },
      "outputs": [],
      "source": [
        "random_forest_prediction = random_forest.predict(test_x)\n"
      ]
    },
    {
      "cell_type": "code",
      "execution_count": 41,
      "metadata": {
        "id": "Qd8iKY1MaMwW"
      },
      "outputs": [
        {
          "name": "stdout",
          "output_type": "stream",
          "text": [
            "              precision    recall  f1-score   support\n",
            "\n",
            "           0       0.87      0.92      0.90     17511\n",
            "           1       0.93      0.88      0.90     19818\n",
            "\n",
            "    accuracy                           0.90     37329\n",
            "   macro avg       0.90      0.90      0.90     37329\n",
            "weighted avg       0.90      0.90      0.90     37329\n",
            "\n"
          ]
        }
      ],
      "source": [
        "reports = {}\n",
        "reports['Random Forest'] = classification_report(random_forest_prediction, test_y, output_dict=True)\n",
        "print(classification_report(random_forest_prediction, test_y))"
      ]
    },
    {
      "cell_type": "code",
      "execution_count": 35,
      "metadata": {
        "colab": {
          "base_uri": "https://localhost:8080/",
          "height": 350
        },
        "id": "VtQQLRiSGTBe",
        "outputId": "ecdad5f1-49ce-442f-8b52-a3a77186ab09"
      },
      "outputs": [
        {
          "data": {
            "image/png": "[encoded data removed]",
            "text/plain": [
              "<Figure size 640x480 with 1 Axes>"
            ]
          },
          "metadata": {},
          "output_type": "display_data"
        }
      ],
      "source": [
        "f1_score_by_macro_avg = [reports[x]['macro avg']['f1-score'] for x in reports]\n",
        "\n",
        "plt.title('F-measure macro avg')\n",
        "plt.xlabel('Algorithm')\n",
        "plt.ylabel('F-measure macro avg')\n",
        "plt.bar([x for x in reports], f1_score_by_macro_avg , color='blue')\n",
        "plt.ylim(0.89, 0.9)\n",
        "plt.show()"
      ]
    },
    {
      "cell_type": "code",
      "execution_count": 36,
      "metadata": {
        "colab": {
          "base_uri": "https://localhost:8080/",
          "height": 350
        },
        "id": "lQbl0wK_HbK_",
        "outputId": "d6954112-f1f1-493a-f04d-ae3f1a486ea7"
      },
      "outputs": [
        {
          "data": {
            "image/png": "[encoded data removed]",
            "text/plain": [
              "<Figure size 640x480 with 1 Axes>"
            ]
          },
          "metadata": {},
          "output_type": "display_data"
        }
      ],
      "source": [
        "f1_score_by_weigted_avg = [reports[x]['weighted avg']['f1-score'] for x in reports]\n",
        "\n",
        "plt.title('F-measure weighted avg')\n",
        "plt.xlabel('Algorithm')\n",
        "plt.ylabel('F-measure weighted avg')\n",
        "plt.bar([x for x in reports], f1_score_by_weigted_avg, color='blue')\n",
        "plt.ylim(0.89, 0.9)\n",
        "plt.show()"
      ]
    },
    {
      "cell_type": "code",
      "execution_count": 37,
      "metadata": {
        "colab": {
          "base_uri": "https://localhost:8080/"
        },
        "id": "YOeNuTvBP7Cc",
        "outputId": "0115a5de-1151-4ab8-ff58-c02489781120"
      },
      "outputs": [
        {
          "data": {
            "text/plain": [
              "{'Random Forest': {'0': {'precision': 0.867727418836387,\n",
              "   'recall': 0.9249614528010964,\n",
              "   'f1-score': 0.8954307985736794,\n",
              "   'support': 17511},\n",
              "  '1': {'precision': 0.9295933129721909,\n",
              "   'recall': 0.8754162882228277,\n",
              "   'f1-score': 0.9016917439775473,\n",
              "   'support': 19818},\n",
              "  'accuracy': 0.8986578799324921,\n",
              "  'macro avg': {'precision': 0.898660365904289,\n",
              "   'recall': 0.9001888705119621,\n",
              "   'f1-score': 0.8985612712756132,\n",
              "   'support': 37329},\n",
              "  'weighted avg': {'precision': 0.900572078216048,\n",
              "   'recall': 0.8986578799324921,\n",
              "   'f1-score': 0.8987547401744148,\n",
              "   'support': 37329}}}"
            ]
          },
          "execution_count": 37,
          "metadata": {},
          "output_type": "execute_result"
        }
      ],
      "source": [
        "reports"
      ]
    },
    {
      "cell_type": "code",
      "execution_count": 38,
      "metadata": {
        "id": "3LR2m2E7TE6W"
      },
      "outputs": [],
      "source": [
        "score_by_training.sort()"
      ]
    },
    {
      "cell_type": "code",
      "execution_count": 39,
      "metadata": {
        "id": "2FETxb9WTJuj"
      },
      "outputs": [
        {
          "data": {
            "text/plain": [
              "['random_forest.pkl']"
            ]
          },
          "execution_count": 39,
          "metadata": {},
          "output_type": "execute_result"
        }
      ],
      "source": [
        "import joblib\n",
        "joblib.dump(random_forest, 'random_forest.pkl', compress=3)"
      ]
    }
  ],
  "metadata": {
    "accelerator": "TPU",
    "colab": {
      "provenance": []
    },
    "gpuClass": "standard",
    "kernelspec": {
      "display_name": "Python 3.10.6 ('env': venv)",
      "language": "python",
      "name": "python3"
    },
    "language_info": {
      "codemirror_mode": {
        "name": "ipython",
        "version": 3
      },
      "file_extension": ".py",
      "mimetype": "text/x-python",
      "name": "python",
      "nbconvert_exporter": "python",
      "pygments_lexer": "ipython3",
      "version": "3.10.6 (main, Nov 14 2022, 16:10:14) [GCC 11.3.0]"
    },
    "vscode": {
      "interpreter": {
        "hash": "7f0b4af90163892ebef131360ba55367e93d4503c9301e266415b3646cbf33cd"
      }
    }
  },
  "nbformat": 4,
  "nbformat_minor": 0
}
