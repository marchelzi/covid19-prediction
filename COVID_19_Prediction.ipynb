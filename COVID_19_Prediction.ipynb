{
  "cells": [
    {
      "cell_type": "code",
      "execution_count": 2,
      "metadata": {
        "id": "xHnzw5NZaMvx"
      },
      "outputs": [],
      "source": [
        "import pandas as pd\n",
        "from sklearn.model_selection import train_test_split\n",
        "from sklearn.linear_model import LogisticRegression\n",
        "from sklearn.tree import DecisionTreeClassifier\n",
        "from sklearn.ensemble import RandomForestClassifier, GradientBoostingClassifier\n",
        "from sklearn.model_selection import train_test_split\n",
        "import numpy as np\n",
        "import pandas as pd\n",
        "from matplotlib import pyplot as plt\n",
        "from matplotlib.ticker import FormatStrFormatter\n",
        "from sklearn.neural_network import MLPClassifier\n",
        "from sklearn.metrics import f1_score\n",
        "from sklearn.experimental import enable_halving_search_cv\n",
        "from sklearn.model_selection import HalvingGridSearchCV\n",
        "from sklearn.metrics import classification_report\n",
        "from xgboost import XGBClassifier\n",
        "import joblib"
      ]
    },
    {
      "cell_type": "code",
      "execution_count": 3,
      "metadata": {
        "id": "mdwYPUV6aMv2"
      },
      "outputs": [],
      "source": [
        "df = pd.read_csv('./CovidData.csv')"
      ]
    },
    {
      "cell_type": "code",
      "execution_count": 4,
      "metadata": {
        "colab": {
          "base_uri": "https://localhost:8080/",
          "height": 299
        },
        "id": "d1rYwCIZaMv5",
        "outputId": "63023e9a-3f70-40bb-a160-fea0ddf4cff8"
      },
      "outputs": [
        {
          "data": {
            "text/html": [
              "<div>\n",
              "<style scoped>\n",
              "    .dataframe tbody tr th:only-of-type {\n",
              "        vertical-align: middle;\n",
              "    }\n",
              "\n",
              "    .dataframe tbody tr th {\n",
              "        vertical-align: top;\n",
              "    }\n",
              "\n",
              "    .dataframe thead th {\n",
              "        text-align: right;\n",
              "    }\n",
              "</style>\n",
              "<table border=\"1\" class=\"dataframe\">\n",
              "  <thead>\n",
              "    <tr style=\"text-align: right;\">\n",
              "      <th></th>\n",
              "      <th>USMER</th>\n",
              "      <th>MEDICAL_UNIT</th>\n",
              "      <th>SEX</th>\n",
              "      <th>PATIENT_TYPE</th>\n",
              "      <th>DATE_DIED</th>\n",
              "      <th>INTUBED</th>\n",
              "      <th>PNEUMONIA</th>\n",
              "      <th>AGE</th>\n",
              "      <th>PREGNANT</th>\n",
              "      <th>DIABETES</th>\n",
              "      <th>...</th>\n",
              "      <th>ASTHMA</th>\n",
              "      <th>INMSUPR</th>\n",
              "      <th>HIPERTENSION</th>\n",
              "      <th>OTHER_DISEASE</th>\n",
              "      <th>CARDIOVASCULAR</th>\n",
              "      <th>OBESITY</th>\n",
              "      <th>RENAL_CHRONIC</th>\n",
              "      <th>TOBACCO</th>\n",
              "      <th>CLASIFFICATION_FINAL</th>\n",
              "      <th>ICU</th>\n",
              "    </tr>\n",
              "  </thead>\n",
              "  <tbody>\n",
              "    <tr>\n",
              "      <th>0</th>\n",
              "      <td>2</td>\n",
              "      <td>1</td>\n",
              "      <td>1</td>\n",
              "      <td>1</td>\n",
              "      <td>03/05/2020</td>\n",
              "      <td>97</td>\n",
              "      <td>1</td>\n",
              "      <td>65</td>\n",
              "      <td>2</td>\n",
              "      <td>2</td>\n",
              "      <td>...</td>\n",
              "      <td>2</td>\n",
              "      <td>2</td>\n",
              "      <td>1</td>\n",
              "      <td>2</td>\n",
              "      <td>2</td>\n",
              "      <td>2</td>\n",
              "      <td>2</td>\n",
              "      <td>2</td>\n",
              "      <td>3</td>\n",
              "      <td>97</td>\n",
              "    </tr>\n",
              "    <tr>\n",
              "      <th>1</th>\n",
              "      <td>2</td>\n",
              "      <td>1</td>\n",
              "      <td>2</td>\n",
              "      <td>1</td>\n",
              "      <td>03/06/2020</td>\n",
              "      <td>97</td>\n",
              "      <td>1</td>\n",
              "      <td>72</td>\n",
              "      <td>97</td>\n",
              "      <td>2</td>\n",
              "      <td>...</td>\n",
              "      <td>2</td>\n",
              "      <td>2</td>\n",
              "      <td>1</td>\n",
              "      <td>2</td>\n",
              "      <td>2</td>\n",
              "      <td>1</td>\n",
              "      <td>1</td>\n",
              "      <td>2</td>\n",
              "      <td>5</td>\n",
              "      <td>97</td>\n",
              "    </tr>\n",
              "    <tr>\n",
              "      <th>2</th>\n",
              "      <td>2</td>\n",
              "      <td>1</td>\n",
              "      <td>2</td>\n",
              "      <td>2</td>\n",
              "      <td>09/06/2020</td>\n",
              "      <td>1</td>\n",
              "      <td>2</td>\n",
              "      <td>55</td>\n",
              "      <td>97</td>\n",
              "      <td>1</td>\n",
              "      <td>...</td>\n",
              "      <td>2</td>\n",
              "      <td>2</td>\n",
              "      <td>2</td>\n",
              "      <td>2</td>\n",
              "      <td>2</td>\n",
              "      <td>2</td>\n",
              "      <td>2</td>\n",
              "      <td>2</td>\n",
              "      <td>3</td>\n",
              "      <td>2</td>\n",
              "    </tr>\n",
              "    <tr>\n",
              "      <th>3</th>\n",
              "      <td>2</td>\n",
              "      <td>1</td>\n",
              "      <td>1</td>\n",
              "      <td>1</td>\n",
              "      <td>12/06/2020</td>\n",
              "      <td>97</td>\n",
              "      <td>2</td>\n",
              "      <td>53</td>\n",
              "      <td>2</td>\n",
              "      <td>2</td>\n",
              "      <td>...</td>\n",
              "      <td>2</td>\n",
              "      <td>2</td>\n",
              "      <td>2</td>\n",
              "      <td>2</td>\n",
              "      <td>2</td>\n",
              "      <td>2</td>\n",
              "      <td>2</td>\n",
              "      <td>2</td>\n",
              "      <td>7</td>\n",
              "      <td>97</td>\n",
              "    </tr>\n",
              "    <tr>\n",
              "      <th>4</th>\n",
              "      <td>2</td>\n",
              "      <td>1</td>\n",
              "      <td>2</td>\n",
              "      <td>1</td>\n",
              "      <td>21/06/2020</td>\n",
              "      <td>97</td>\n",
              "      <td>2</td>\n",
              "      <td>68</td>\n",
              "      <td>97</td>\n",
              "      <td>1</td>\n",
              "      <td>...</td>\n",
              "      <td>2</td>\n",
              "      <td>2</td>\n",
              "      <td>1</td>\n",
              "      <td>2</td>\n",
              "      <td>2</td>\n",
              "      <td>2</td>\n",
              "      <td>2</td>\n",
              "      <td>2</td>\n",
              "      <td>3</td>\n",
              "      <td>97</td>\n",
              "    </tr>\n",
              "  </tbody>\n",
              "</table>\n",
              "<p>5 rows × 21 columns</p>\n",
              "</div>"
            ],
            "text/plain": [
              "   USMER  MEDICAL_UNIT  SEX  PATIENT_TYPE   DATE_DIED  INTUBED  PNEUMONIA  \\\n",
              "0      2             1    1             1  03/05/2020       97          1   \n",
              "1      2             1    2             1  03/06/2020       97          1   \n",
              "2      2             1    2             2  09/06/2020        1          2   \n",
              "3      2             1    1             1  12/06/2020       97          2   \n",
              "4      2             1    2             1  21/06/2020       97          2   \n",
              "\n",
              "   AGE  PREGNANT  DIABETES  ...  ASTHMA  INMSUPR  HIPERTENSION  OTHER_DISEASE  \\\n",
              "0   65         2         2  ...       2        2             1              2   \n",
              "1   72        97         2  ...       2        2             1              2   \n",
              "2   55        97         1  ...       2        2             2              2   \n",
              "3   53         2         2  ...       2        2             2              2   \n",
              "4   68        97         1  ...       2        2             1              2   \n",
              "\n",
              "   CARDIOVASCULAR  OBESITY  RENAL_CHRONIC  TOBACCO  CLASIFFICATION_FINAL  ICU  \n",
              "0               2        2              2        2                     3   97  \n",
              "1               2        1              1        2                     5   97  \n",
              "2               2        2              2        2                     3    2  \n",
              "3               2        2              2        2                     7   97  \n",
              "4               2        2              2        2                     3   97  \n",
              "\n",
              "[5 rows x 21 columns]"
            ]
          },
          "execution_count": 4,
          "metadata": {},
          "output_type": "execute_result"
        }
      ],
      "source": [
        "df.head()"
      ]
    },
    {
      "cell_type": "markdown",
      "metadata": {
        "id": "D4sCBHiyb6Q9"
      },
      "source": [
        "Hapus Medical Unit karena tidak dibutuhkan"
      ]
    },
    {
      "cell_type": "code",
      "execution_count": 5,
      "metadata": {
        "colab": {
          "base_uri": "https://localhost:8080/"
        },
        "id": "2inorVK5aMv7",
        "outputId": "ea202e17-3c00-407d-f8b2-fa120ad34afd"
      },
      "outputs": [
        {
          "name": "stdout",
          "output_type": "stream",
          "text": [
            "<class 'pandas.core.frame.DataFrame'>\n",
            "RangeIndex: 1048575 entries, 0 to 1048574\n",
            "Data columns (total 20 columns):\n",
            " #   Column                Non-Null Count    Dtype \n",
            "---  ------                --------------    ----- \n",
            " 0   USMER                 1048575 non-null  int64 \n",
            " 1   SEX                   1048575 non-null  int64 \n",
            " 2   PATIENT_TYPE          1048575 non-null  int64 \n",
            " 3   DATE_DIED             1048575 non-null  object\n",
            " 4   INTUBED               1048575 non-null  int64 \n",
            " 5   PNEUMONIA             1048575 non-null  int64 \n",
            " 6   AGE                   1048575 non-null  int64 \n",
            " 7   PREGNANT              1048575 non-null  int64 \n",
            " 8   DIABETES              1048575 non-null  int64 \n",
            " 9   COPD                  1048575 non-null  int64 \n",
            " 10  ASTHMA                1048575 non-null  int64 \n",
            " 11  INMSUPR               1048575 non-null  int64 \n",
            " 12  HIPERTENSION          1048575 non-null  int64 \n",
            " 13  OTHER_DISEASE         1048575 non-null  int64 \n",
            " 14  CARDIOVASCULAR        1048575 non-null  int64 \n",
            " 15  OBESITY               1048575 non-null  int64 \n",
            " 16  RENAL_CHRONIC         1048575 non-null  int64 \n",
            " 17  TOBACCO               1048575 non-null  int64 \n",
            " 18  CLASIFFICATION_FINAL  1048575 non-null  int64 \n",
            " 19  ICU                   1048575 non-null  int64 \n",
            "dtypes: int64(19), object(1)\n",
            "memory usage: 160.0+ MB\n"
          ]
        }
      ],
      "source": [
        "df.drop(columns=['MEDICAL_UNIT'], inplace=True)\n",
        "df.info()"
      ]
    },
    {
      "cell_type": "markdown",
      "metadata": {
        "id": "Q_G0QnNBcOEo"
      },
      "source": [
        "97 dan 98 adalah missing values, maka data harus di normalisasi atau dibersihkan dengan cara menghapus baris yang mengadung value 97 dan 98"
      ]
    },
    {
      "cell_type": "code",
      "execution_count": 6,
      "metadata": {
        "colab": {
          "base_uri": "https://localhost:8080/"
        },
        "id": "_ZpJpdG1aMv8",
        "outputId": "cd2abc26-b579-4c8e-8ab0-c58a52a488b0"
      },
      "outputs": [
        {
          "name": "stdout",
          "output_type": "stream",
          "text": [
            "<class 'pandas.core.frame.DataFrame'>\n",
            "Int64Index: 80100 entries, 5 to 1048569\n",
            "Data columns (total 20 columns):\n",
            " #   Column                Non-Null Count  Dtype \n",
            "---  ------                --------------  ----- \n",
            " 0   USMER                 80100 non-null  int64 \n",
            " 1   SEX                   80100 non-null  int64 \n",
            " 2   PATIENT_TYPE          80100 non-null  int64 \n",
            " 3   DATE_DIED             80100 non-null  object\n",
            " 4   INTUBED               80100 non-null  int64 \n",
            " 5   PNEUMONIA             80100 non-null  int64 \n",
            " 6   AGE                   80100 non-null  int64 \n",
            " 7   PREGNANT              80100 non-null  int64 \n",
            " 8   DIABETES              80100 non-null  int64 \n",
            " 9   COPD                  80100 non-null  int64 \n",
            " 10  ASTHMA                80100 non-null  int64 \n",
            " 11  INMSUPR               80100 non-null  int64 \n",
            " 12  HIPERTENSION          80100 non-null  int64 \n",
            " 13  OTHER_DISEASE         80100 non-null  int64 \n",
            " 14  CARDIOVASCULAR        80100 non-null  int64 \n",
            " 15  OBESITY               80100 non-null  int64 \n",
            " 16  RENAL_CHRONIC         80100 non-null  int64 \n",
            " 17  TOBACCO               80100 non-null  int64 \n",
            " 18  CLASIFFICATION_FINAL  80100 non-null  int64 \n",
            " 19  ICU                   80100 non-null  int64 \n",
            "dtypes: int64(19), object(1)\n",
            "memory usage: 12.8+ MB\n"
          ]
        }
      ],
      "source": [
        "df = df[(df != 97).all(axis=1)]\n",
        "df = df[(df != 98).all(axis=1)]\n",
        "df.info()"
      ]
    },
    {
      "cell_type": "markdown",
      "metadata": {
        "id": "3-pjjbfEcaeK"
      },
      "source": [
        "Melakukan encode data dengan mengubah ke 1 dan 0, tidak = 0 dan ya = 1"
      ]
    },
    {
      "cell_type": "code",
      "execution_count": 7,
      "metadata": {
        "id": "KOB05_3JaMv9"
      },
      "outputs": [],
      "source": [
        "CATEGORICAL_COLUMNS = [\n",
        "    'SEX',\n",
        "    'USMER',\n",
        "    'PNEUMONIA',\n",
        "    'DIABETES',\n",
        "    'COPD',\n",
        "    'ASTHMA',\n",
        "    'INMSUPR',\n",
        "    'HIPERTENSION',\n",
        "    'OTHER_DISEASE',\n",
        "    'CARDIOVASCULAR',\n",
        "    'OBESITY',\n",
        "    'RENAL_CHRONIC',\n",
        "    'TOBACCO',\n",
        "    'PREGNANT',\n",
        "    'INTUBED',\n",
        "    'ICU'\n",
        "]\n",
        "\n",
        "for categorical in CATEGORICAL_COLUMNS:\n",
        "    df[categorical] = df[categorical].apply(lambda x: x if x == 1 else 0)\n",
        "\n",
        "df.PATIENT_TYPE = df.PATIENT_TYPE.apply(lambda x: 0 if x == 1 else 1)\n",
        "df.DATE_DIED = df.DATE_DIED.apply(lambda x: 0 if x == '9999-99-99' else 1)\n"
      ]
    },
    {
      "cell_type": "markdown",
      "metadata": {
        "id": "-zU9Jpl5cnB5"
      },
      "source": [
        "Karena kolom date_died, intubed, dan icu merupakan kolom decision yang menandakan bahwa pasien terkena covid 19, maka dibuat satu kolom decision dengan mengambil value dari kolom date_died, intubed, dan icu supaya tidak ada duplikasi kolom decision"
      ]
    },
    {
      "cell_type": "code",
      "execution_count": 8,
      "metadata": {
        "id": "cauiexPkaMwA"
      },
      "outputs": [],
      "source": [
        "df['COVID'] = df.DATE_DIED + df.INTUBED + df.ICU\n",
        "df.COVID = df.COVID.apply(lambda x: 1 if x > 0 else 0)"
      ]
    },
    {
      "cell_type": "markdown",
      "metadata": {
        "id": "JmreLYyac95v"
      },
      "source": [
        "Karena sudah mempunyai attribute decision yang baru, maka kolom decision yang tidak perlu dapat dihapus"
      ]
    },
    {
      "cell_type": "code",
      "execution_count": 9,
      "metadata": {
        "id": "lOBJ-k1caMwB"
      },
      "outputs": [],
      "source": [
        "df.drop(columns=['CLASIFFICATION_FINAL', 'DATE_DIED', 'INTUBED', 'ICU'], inplace=True)"
      ]
    },
    {
      "cell_type": "code",
      "execution_count": 10,
      "metadata": {
        "colab": {
          "base_uri": "https://localhost:8080/"
        },
        "id": "EOjeqpLlaMwC",
        "outputId": "16e1a6c3-a982-4e64-a158-f801501e0bd3"
      },
      "outputs": [
        {
          "name": "stdout",
          "output_type": "stream",
          "text": [
            "<class 'pandas.core.frame.DataFrame'>\n",
            "Int64Index: 80100 entries, 5 to 1048569\n",
            "Data columns (total 17 columns):\n",
            " #   Column          Non-Null Count  Dtype\n",
            "---  ------          --------------  -----\n",
            " 0   USMER           80100 non-null  int64\n",
            " 1   SEX             80100 non-null  int64\n",
            " 2   PATIENT_TYPE    80100 non-null  int64\n",
            " 3   PNEUMONIA       80100 non-null  int64\n",
            " 4   AGE             80100 non-null  int64\n",
            " 5   PREGNANT        80100 non-null  int64\n",
            " 6   DIABETES        80100 non-null  int64\n",
            " 7   COPD            80100 non-null  int64\n",
            " 8   ASTHMA          80100 non-null  int64\n",
            " 9   INMSUPR         80100 non-null  int64\n",
            " 10  HIPERTENSION    80100 non-null  int64\n",
            " 11  OTHER_DISEASE   80100 non-null  int64\n",
            " 12  CARDIOVASCULAR  80100 non-null  int64\n",
            " 13  OBESITY         80100 non-null  int64\n",
            " 14  RENAL_CHRONIC   80100 non-null  int64\n",
            " 15  TOBACCO         80100 non-null  int64\n",
            " 16  COVID           80100 non-null  int64\n",
            "dtypes: int64(17)\n",
            "memory usage: 11.0 MB\n"
          ]
        }
      ],
      "source": [
        "df.info()"
      ]
    },
    {
      "cell_type": "code",
      "execution_count": 11,
      "metadata": {
        "id": "1es2Rs9VaMwE"
      },
      "outputs": [],
      "source": [
        "train, test = train_test_split(\n",
        "    df,\n",
        "    test_size=0.2,\n",
        ")\n",
        "\n"
      ]
    },
    {
      "cell_type": "code",
      "execution_count": 12,
      "metadata": {
        "id": "yH91Es0IaMwF"
      },
      "outputs": [],
      "source": [
        "y_test = test.COVID.to_numpy()\n",
        "x_test = test.drop(columns=['COVID']).to_numpy()\n",
        "\n",
        "y_train = train.COVID.to_numpy()\n",
        "x_train = train.drop(columns=['COVID']).to_numpy()\n"
      ]
    },
    {
      "cell_type": "code",
      "execution_count": 13,
      "metadata": {
        "id": "ZmcyKKxAaMwJ"
      },
      "outputs": [],
      "source": [
        "logistic_regression = LogisticRegression(C=0.33598182862837817, penalty='l1', solver='liblinear')\n",
        "random_forest = RandomForestClassifier(max_depth=10, min_samples_split=20, n_estimators=81, random_state=0)\n",
        "decision_tree = DecisionTreeClassifier(max_depth=3, min_samples_split=10)\n",
        "gradient_boosting = GradientBoostingClassifier(random_state=0)\n",
        "mlp_classifier = MLPClassifier()\n",
        "xgb_boost = XGBClassifier()"
      ]
    },
    {
      "cell_type": "code",
      "execution_count": 14,
      "metadata": {
        "id": "EIdUIYsSQd8s"
      },
      "outputs": [],
      "source": [
        "model_scores = {}"
      ]
    },
    {
      "cell_type": "markdown",
      "metadata": {
        "id": "sRine6yraMwK"
      },
      "source": [
        "LOGISTIC REGRESSION"
      ]
    },
    {
      "cell_type": "code",
      "execution_count": 15,
      "metadata": {
        "id": "127d5MZ1k5QA"
      },
      "outputs": [],
      "source": [
        "logistic_param_grid = {\n",
        "    'C': np.logspace(-1, 4, 20),\n",
        "    'penalty': ['l1', 'l2'],\n",
        "    'solver': ['liblinear']\n",
        "}\n",
        "\n",
        "#halving_grid_search = HalvingGridSearchCV(logistic_regression, logistic_param_grid, cv=5).fit(x_train, y_train)\n",
        "#halving_grid_search.best_estimator_"
      ]
    },
    {
      "cell_type": "code",
      "execution_count": 16,
      "metadata": {
        "id": "dQfDS7z-aMwM"
      },
      "outputs": [],
      "source": [
        "logistic_regression.fit(x_train, y_train)\n",
        "model_scores['Logistic Regression'] = [\n",
        "    logistic_regression.score(x_train, y_train),\n",
        "    logistic_regression.score(x_test, y_test),\n",
        "]"
      ]
    },
    {
      "cell_type": "markdown",
      "metadata": {
        "id": "-6_YyKs5aMwO"
      },
      "source": [
        "Random Forest Classifier"
      ]
    },
    {
      "cell_type": "code",
      "execution_count": 17,
      "metadata": {
        "id": "l-t6Ex_4fwBi"
      },
      "outputs": [],
      "source": [
        "random_forest_param_grid = {\n",
        "    'max_depth': [3, 5, 10, 15, 20, None],\n",
        "    'min_samples_split': [2, 5, 10, 15, 20]\n",
        "}\n",
        "\n",
        "# halving_grid_search = HalvingGridSearchCV(random_forest, \n",
        "#                                           random_forest_param_grid, \n",
        "#                                           cv=5,\n",
        "#                                           factor=3,\n",
        "#                                           resource='n_estimators',\n",
        "#                                           max_resources=100).fit(x_train, y_train)\n",
        "# halving_grid_search.best_estimator_"
      ]
    },
    {
      "cell_type": "code",
      "execution_count": 18,
      "metadata": {
        "id": "GXudRJhvaMwO"
      },
      "outputs": [],
      "source": [
        "random_forest.fit(x_train, y_train)\n",
        "model_scores['Random Forest'] = [\n",
        "    random_forest.score(x_train, y_train),\n",
        "    random_forest.score(x_test, y_test)\n",
        "]\n"
      ]
    },
    {
      "cell_type": "markdown",
      "metadata": {
        "id": "GXaKxbt9aMwP"
      },
      "source": [
        "Decision Tree Classifier"
      ]
    },
    {
      "cell_type": "code",
      "execution_count": 19,
      "metadata": {
        "id": "TudShGTYjdG4"
      },
      "outputs": [],
      "source": [
        "decision_param_grid = {\n",
        "    'max_depth': [3, 5, 10, 15, 20, None],\n",
        "    'min_samples_split': [2, 5, 10, 15, 20]\n",
        "}\n",
        "\n",
        "#halving_grid_search = HalvingGridSearchCV(decision_tree, \n",
        "                                          # decision_param_grid, \n",
        "                                          # cv=5,\n",
        "                                          # max_resources=100).fit(x_train, y_train)\n",
        "#halving_grid_search.best_estimator_"
      ]
    },
    {
      "cell_type": "code",
      "execution_count": 20,
      "metadata": {
        "id": "kLCZTXKMaMwQ"
      },
      "outputs": [],
      "source": [
        "decision_tree.fit(x_train, y_train)\n",
        "decision_tree_score = decision_tree.score(x_test, y_test)\n",
        "model_scores['Decision Tree'] = [\n",
        "    decision_tree.score(x_train, y_train),\n",
        "    decision_tree.score(x_test, y_test)\n",
        "]\n"
      ]
    },
    {
      "cell_type": "markdown",
      "metadata": {
        "id": "N5x1EqXEaMwQ"
      },
      "source": [
        "GRADIENT BOOST"
      ]
    },
    {
      "cell_type": "code",
      "execution_count": 21,
      "metadata": {
        "id": "QrkJs-xDoRYk"
      },
      "outputs": [],
      "source": [
        "gradient_param_grid = {\n",
        "    'learning_rate': [0.1, 0.01, 0.001],\n",
        "    'max_depth': [3, 5, 7]\n",
        "}\n",
        "\n",
        "#halving_grid_search = HalvingGridSearchCV(gradient_boosting, gradient_param_grid, cv=5).fit(x_train, y_train)\n",
        "\n",
        "#halving_grid_search.best_estimator_"
      ]
    },
    {
      "cell_type": "code",
      "execution_count": 22,
      "metadata": {
        "id": "8rUd2k9eaMwR"
      },
      "outputs": [],
      "source": [
        "gradient_boosting.fit(x_train, y_train)\n",
        "model_scores['Gradient Boosting'] = [\n",
        "    gradient_boosting.score(x_test, y_test),\n",
        "    gradient_boosting.score(x_test, y_test)\n",
        "]\n"
      ]
    },
    {
      "cell_type": "markdown",
      "metadata": {
        "id": "VQI9MbmoaMwS"
      },
      "source": [
        "MLP Classifier"
      ]
    },
    {
      "cell_type": "code",
      "execution_count": 23,
      "metadata": {
        "id": "Nhls5zvGo8Zx"
      },
      "outputs": [],
      "source": [
        "mlp_param_grid = {\n",
        "    'hidden_layer_sizes': [(100,), (100, 100), (100, 100, 100)],\n",
        "    'learning_rate_init': [0.1, 0.01, 0.001]\n",
        "}\n",
        "\n",
        "# halving_grid_search = HalvingGridSearchCV(mlp_classifier, mlp_param_grid, cv=5).fit(x_train, y_train)\n",
        "\n",
        "\n",
        "# halving_grid_search.best_estimator_"
      ]
    },
    {
      "cell_type": "code",
      "execution_count": 24,
      "metadata": {
        "id": "uwh6oqVAaMwS"
      },
      "outputs": [],
      "source": [
        "mlp_classifier.fit(x_train, y_train)\n",
        "\n",
        "model_scores['MLP Classifier'] = [\n",
        "    mlp_classifier.score(x_test, y_test),\n",
        "    mlp_classifier.score(x_test, y_test)\n",
        "]\n"
      ]
    },
    {
      "cell_type": "markdown",
      "metadata": {
        "id": "7zdxD9sYSVlF"
      },
      "source": [
        "XGBOOST CLASSIFIER"
      ]
    },
    {
      "cell_type": "code",
      "execution_count": 25,
      "metadata": {
        "id": "xzOIH02WSXYc"
      },
      "outputs": [],
      "source": [
        "xgb_boost.fit(x_train, y_train)\n",
        "\n",
        "model_scores['XGB Boost'] = [\n",
        "    xgb_boost.score(x_train, y_train),\n",
        "    xgb_boost.score(x_test, y_test)\n",
        "]\n"
      ]
    },
    {
      "cell_type": "code",
      "execution_count": 26,
      "metadata": {
        "colab": {
          "base_uri": "https://localhost:8080/",
          "height": 350
        },
        "id": "hCFI7xF5aMwT",
        "outputId": "5e7cd7a3-3249-4849-9511-5a518a030cd6"
      },
      "outputs": [
        {
          "data": {
            "image/png": "[encoded data removed]",
            "text/plain": [
              "<Figure size 1000x500 with 1 Axes>"
            ]
          },
          "metadata": {},
          "output_type": "display_data"
        }
      ],
      "source": [
        "# Draw a plot of the algorithm scores\n",
        "score_by_training = [model_scores[x][0] for x in model_scores]\n",
        "score_by_training.sort(reverse=True)\n",
        "plt.figure(figsize=(10, 5))\n",
        "plt.title('Algorithm Scores(Training)')\n",
        "plt.xlabel('Algorithm')\n",
        "plt.ylabel('Score')\n",
        "# 2 decimal places\n",
        "plt.bar([x for x in model_scores], score_by_training, color='blue')\n",
        "plt.ylim(0.61, 0.70)\n",
        "plt.show()\n"
      ]
    },
    {
      "cell_type": "code",
      "execution_count": 27,
      "metadata": {
        "colab": {
          "base_uri": "https://localhost:8080/",
          "height": 350
        },
        "id": "eSM3NgqeSRp6",
        "outputId": "36f5cf8d-486f-422c-ad22-a7ae38dccd15"
      },
      "outputs": [
        {
          "data": {
            "image/png": "[encoded data removed]",
            "text/plain": [
              "<Figure size 1000x500 with 1 Axes>"
            ]
          },
          "metadata": {},
          "output_type": "display_data"
        }
      ],
      "source": [
        "score_by_test = [model_scores[x][1] for x in model_scores]\n",
        "score_by_test.sort(reverse=True)\n",
        "plt.figure(figsize=(10, 5))\n",
        "plt.title('Algorithm Scores(Test)')\n",
        "plt.xlabel('Algorithm')\n",
        "plt.ylabel('Score')\n",
        "# 2 decimal places\n",
        "plt.bar([x for x in model_scores], score_by_test, color='blue')\n",
        "plt.ylim(0.61, 0.70)\n",
        "plt.show()\n"
      ]
    },
    {
      "cell_type": "code",
      "execution_count": 28,
      "metadata": {
        "id": "fAbzqVYRaMwU"
      },
      "outputs": [],
      "source": [
        "# Predict the test set\n",
        "logistic_prediction = logistic_regression.predict(x_test)\n",
        "decision_tree_prediction = decision_tree.predict(x_test)\n",
        "random_forest_prediction = random_forest.predict(x_test)\n",
        "gradient_boosting_prediction = gradient_boosting.predict(x_test)\n",
        "mlp_classifier_prediction = mlp_classifier.predict(x_test)\n",
        "xgb_boost_prediction = xgb_boost.predict(x_test)\n",
        "\n"
      ]
    },
    {
      "cell_type": "code",
      "execution_count": 29,
      "metadata": {
        "id": "Qd8iKY1MaMwW"
      },
      "outputs": [],
      "source": [
        "reports = {}\n",
        "reports['Decision Tree'] = classification_report(decision_tree_prediction, y_test, output_dict=True)\n",
        "reports['Gradient Boosting'] = classification_report(gradient_boosting_prediction, y_test, output_dict=True)\n",
        "reports['Random Forest'] = classification_report(random_forest_prediction, y_test, output_dict=True)\n",
        "reports['MLP Classifier'] = classification_report(mlp_classifier_prediction, y_test, output_dict=True)\n",
        "reports['Logistic Regression'] = classification_report(logistic_prediction, y_test, output_dict=True)\n",
        "reports['XGB Boost'] = classification_report(xgb_boost_prediction, y_test, output_dict=True)"
      ]
    },
    {
      "cell_type": "code",
      "execution_count": 30,
      "metadata": {
        "colab": {
          "base_uri": "https://localhost:8080/",
          "height": 350
        },
        "id": "VtQQLRiSGTBe",
        "outputId": "a374c295-80f5-42ca-8419-25e8cb123bfe"
      },
      "outputs": [
        {
          "data": {
            "image/png": "[encoded data removed]",
            "text/plain": [
              "<Figure size 1000x500 with 1 Axes>"
            ]
          },
          "metadata": {},
          "output_type": "display_data"
        }
      ],
      "source": [
        "f1_score_by_macro_avg = [reports[x]['macro avg']['f1-score'] for x in reports]\n",
        "\n",
        "plt.figure(figsize=(10, 5))\n",
        "plt.title('F-measure macro avg')\n",
        "plt.xlabel('Algorithm')\n",
        "plt.ylabel('F-measure macro avg')\n",
        "plt.bar([x for x in reports], f1_score_by_macro_avg , color='blue')\n",
        "plt.ylim(0.61, 0.67)\n",
        "plt.show()"
      ]
    },
    {
      "cell_type": "code",
      "execution_count": 31,
      "metadata": {
        "colab": {
          "base_uri": "https://localhost:8080/",
          "height": 350
        },
        "id": "lQbl0wK_HbK_",
        "outputId": "6f8ad225-3eae-4486-db9f-a540ee3fcd4a"
      },
      "outputs": [
        {
          "data": {
            "image/png": "[encoded data removed]",
            "text/plain": [
              "<Figure size 1000x500 with 1 Axes>"
            ]
          },
          "metadata": {},
          "output_type": "display_data"
        }
      ],
      "source": [
        "f1_score_by_weigted_avg = [reports[x]['weighted avg']['f1-score'] for x in reports]\n",
        "\n",
        "plt.figure(figsize=(10, 5))\n",
        "plt.title('F-measure weighted avg')\n",
        "plt.xlabel('Algorithm')\n",
        "plt.ylabel('F-measure weighted avg')\n",
        "plt.bar([x for x in reports], f1_score_by_weigted_avg, color='blue')\n",
        "plt.ylim(0.65, 0.72)\n",
        "plt.show()"
      ]
    },
    {
      "cell_type": "markdown",
      "metadata": {},
      "source": [
        "Save Model to Pickle"
      ]
    },
    {
      "cell_type": "code",
      "execution_count": 32,
      "metadata": {},
      "outputs": [
        {
          "data": {
            "text/plain": [
              "['xgb_boost.pkl']"
            ]
          },
          "execution_count": 32,
          "metadata": {},
          "output_type": "execute_result"
        }
      ],
      "source": [
        "joblib.dump(random_forest, 'random_forest.pkl')\n",
        "joblib.dump(gradient_boosting, 'gradient_boosting.pkl')\n",
        "joblib.dump(decision_tree, 'decision_tree.pkl')\n",
        "joblib.dump(logistic_regression, 'logistic_regression.pkl')\n",
        "joblib.dump(mlp_classifier, 'mlp_classifier.pkl')\n",
        "joblib.dump(xgb_boost, 'xgb_boost.pkl')"
      ]
    },
    {
      "cell_type": "code",
      "execution_count": null,
      "metadata": {},
      "outputs": [],
      "source": []
    }
  ],
  "metadata": {
    "colab": {
      "provenance": []
    },
    "gpuClass": "standard",
    "kernelspec": {
      "display_name": "Python 3.10.6 ('env': venv)",
      "language": "python",
      "name": "python3"
    },
    "language_info": {
      "codemirror_mode": {
        "name": "ipython",
        "version": 3
      },
      "file_extension": ".py",
      "mimetype": "text/x-python",
      "name": "python",
      "nbconvert_exporter": "python",
      "pygments_lexer": "ipython3",
      "version": "3.10.6"
    },
    "vscode": {
      "interpreter": {
        "hash": "7f0b4af90163892ebef131360ba55367e93d4503c9301e266415b3646cbf33cd"
      }
    }
  },
  "nbformat": 4,
  "nbformat_minor": 0
}
